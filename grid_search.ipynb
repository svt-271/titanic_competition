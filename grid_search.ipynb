{
 "cells": [
  {
   "cell_type": "code",
   "execution_count": 1,
   "metadata": {
    "_cell_guid": "b1076dfc-b9ad-4769-8c92-a6c4dae69d19",
    "_uuid": "8f2839f25d086af736a60e9eeb907d3b93b6e0e5",
    "execution": {
     "iopub.execute_input": "2022-04-25T15:19:31.356476Z",
     "iopub.status.busy": "2022-04-25T15:19:31.356111Z",
     "iopub.status.idle": "2022-04-25T15:19:31.382174Z",
     "shell.execute_reply": "2022-04-25T15:19:31.381275Z",
     "shell.execute_reply.started": "2022-04-25T15:19:31.356373Z"
    }
   },
   "outputs": [],
   "source": [
    "# This Python 3 environment comes with many helpful analytics libraries installed\n",
    "# It is defined by the kaggle/python Docker image: https://github.com/kaggle/docker-python\n",
    "# For example, here's several helpful packages to load\n",
    "\n",
    "import numpy as np # linear algebra\n",
    "import pandas as pd # data processing, CSV file I/O (e.g. pd.read_csv)\n",
    "\n",
    "# Input data files are available in the read-only \"../input/\" directory\n",
    "# For example, running this (by clicking run or pressing Shift+Enter) will list all files under the input directory\n",
    "\n",
    "import os\n",
    "for dirname, _, filenames in os.walk('/kaggle/input'):\n",
    "    for filename in filenames:\n",
    "        print(os.path.join(dirname, filename))\n",
    "\n",
    "# You can write up to 20GB to the current directory (/kaggle/working/) that gets preserved as output when you create a version using \"Save & Run All\" \n",
    "# You can also write temporary files to /kaggle/temp/, but they won't be saved outside of the current session"
   ]
  },
  {
   "cell_type": "code",
   "execution_count": 2,
   "metadata": {
    "execution": {
     "iopub.execute_input": "2022-04-25T15:19:31.390093Z",
     "iopub.status.busy": "2022-04-25T15:19:31.389203Z",
     "iopub.status.idle": "2022-04-25T15:19:32.479792Z",
     "shell.execute_reply": "2022-04-25T15:19:32.478835Z",
     "shell.execute_reply.started": "2022-04-25T15:19:31.390045Z"
    }
   },
   "outputs": [],
   "source": [
    "from sklearn.preprocessing    import OneHotEncoder\n",
    "from sklearn.compose          import ColumnTransformer\n",
    "from sklearn.preprocessing    import StandardScaler\n",
    "from sklearn.pipeline         import Pipeline\n",
    "from sklearn.metrics          import accuracy_score\n",
    "from sklearn.base             import BaseEstimator, TransformerMixin\n",
    "from sklearn.model_selection  import GridSearchCV\n",
    "from sklearn.model_selection  import KFold"
   ]
  },
  {
   "cell_type": "code",
   "execution_count": 3,
   "metadata": {
    "execution": {
     "iopub.execute_input": "2022-04-25T15:19:32.481477Z",
     "iopub.status.busy": "2022-04-25T15:19:32.481243Z",
     "iopub.status.idle": "2022-04-25T15:19:32.692591Z",
     "shell.execute_reply": "2022-04-25T15:19:32.691826Z",
     "shell.execute_reply.started": "2022-04-25T15:19:32.481437Z"
    }
   },
   "outputs": [],
   "source": [
    "from sklearn.ensemble         import GradientBoostingClassifier\n",
    "from sklearn.linear_model     import LogisticRegression\n",
    "from sklearn.neighbors        import KNeighborsClassifier\n",
    "from sklearn.ensemble         import RandomForestClassifier\n",
    "from sklearn.neural_network   import MLPClassifier"
   ]
  },
  {
   "cell_type": "code",
   "execution_count": 4,
   "metadata": {
    "execution": {
     "iopub.execute_input": "2022-04-25T15:19:32.694192Z",
     "iopub.status.busy": "2022-04-25T15:19:32.693875Z",
     "iopub.status.idle": "2022-04-25T15:19:32.72247Z",
     "shell.execute_reply": "2022-04-25T15:19:32.72172Z",
     "shell.execute_reply.started": "2022-04-25T15:19:32.694154Z"
    }
   },
   "outputs": [],
   "source": [
    "#Read data\n",
    "train_data = pd.read_csv(\"train.csv\")\n",
    "test_data  = pd.read_csv(\"test.csv\")\n",
    "# put aside coties\n",
    "train_data_copy = train_data.copy()\n",
    "test_data_copy  = test_data .copy()"
   ]
  },
  {
   "cell_type": "code",
   "execution_count": 5,
   "metadata": {
    "execution": {
     "iopub.execute_input": "2022-04-25T15:19:32.725178Z",
     "iopub.status.busy": "2022-04-25T15:19:32.724642Z",
     "iopub.status.idle": "2022-04-25T15:19:32.753798Z",
     "shell.execute_reply": "2022-04-25T15:19:32.753018Z",
     "shell.execute_reply.started": "2022-04-25T15:19:32.725131Z"
    }
   },
   "outputs": [
    {
     "data": {
      "text/html": [
       "<div>\n",
       "<style scoped>\n",
       "    .dataframe tbody tr th:only-of-type {\n",
       "        vertical-align: middle;\n",
       "    }\n",
       "\n",
       "    .dataframe tbody tr th {\n",
       "        vertical-align: top;\n",
       "    }\n",
       "\n",
       "    .dataframe thead th {\n",
       "        text-align: right;\n",
       "    }\n",
       "</style>\n",
       "<table border=\"1\" class=\"dataframe\">\n",
       "  <thead>\n",
       "    <tr style=\"text-align: right;\">\n",
       "      <th></th>\n",
       "      <th>PassengerId</th>\n",
       "      <th>Survived</th>\n",
       "      <th>Pclass</th>\n",
       "      <th>Name</th>\n",
       "      <th>Sex</th>\n",
       "      <th>Age</th>\n",
       "      <th>SibSp</th>\n",
       "      <th>Parch</th>\n",
       "      <th>Ticket</th>\n",
       "      <th>Fare</th>\n",
       "      <th>Cabin</th>\n",
       "      <th>Embarked</th>\n",
       "    </tr>\n",
       "  </thead>\n",
       "  <tbody>\n",
       "    <tr>\n",
       "      <th>0</th>\n",
       "      <td>1</td>\n",
       "      <td>0</td>\n",
       "      <td>3</td>\n",
       "      <td>Braund, Mr. Owen Harris</td>\n",
       "      <td>male</td>\n",
       "      <td>22.0</td>\n",
       "      <td>1</td>\n",
       "      <td>0</td>\n",
       "      <td>A/5 21171</td>\n",
       "      <td>7.2500</td>\n",
       "      <td>NaN</td>\n",
       "      <td>S</td>\n",
       "    </tr>\n",
       "    <tr>\n",
       "      <th>1</th>\n",
       "      <td>2</td>\n",
       "      <td>1</td>\n",
       "      <td>1</td>\n",
       "      <td>Cumings, Mrs. John Bradley (Florence Briggs Th...</td>\n",
       "      <td>female</td>\n",
       "      <td>38.0</td>\n",
       "      <td>1</td>\n",
       "      <td>0</td>\n",
       "      <td>PC 17599</td>\n",
       "      <td>71.2833</td>\n",
       "      <td>C85</td>\n",
       "      <td>C</td>\n",
       "    </tr>\n",
       "    <tr>\n",
       "      <th>2</th>\n",
       "      <td>3</td>\n",
       "      <td>1</td>\n",
       "      <td>3</td>\n",
       "      <td>Heikkinen, Miss. Laina</td>\n",
       "      <td>female</td>\n",
       "      <td>26.0</td>\n",
       "      <td>0</td>\n",
       "      <td>0</td>\n",
       "      <td>STON/O2. 3101282</td>\n",
       "      <td>7.9250</td>\n",
       "      <td>NaN</td>\n",
       "      <td>S</td>\n",
       "    </tr>\n",
       "    <tr>\n",
       "      <th>3</th>\n",
       "      <td>4</td>\n",
       "      <td>1</td>\n",
       "      <td>1</td>\n",
       "      <td>Futrelle, Mrs. Jacques Heath (Lily May Peel)</td>\n",
       "      <td>female</td>\n",
       "      <td>35.0</td>\n",
       "      <td>1</td>\n",
       "      <td>0</td>\n",
       "      <td>113803</td>\n",
       "      <td>53.1000</td>\n",
       "      <td>C123</td>\n",
       "      <td>S</td>\n",
       "    </tr>\n",
       "    <tr>\n",
       "      <th>4</th>\n",
       "      <td>5</td>\n",
       "      <td>0</td>\n",
       "      <td>3</td>\n",
       "      <td>Allen, Mr. William Henry</td>\n",
       "      <td>male</td>\n",
       "      <td>35.0</td>\n",
       "      <td>0</td>\n",
       "      <td>0</td>\n",
       "      <td>373450</td>\n",
       "      <td>8.0500</td>\n",
       "      <td>NaN</td>\n",
       "      <td>S</td>\n",
       "    </tr>\n",
       "    <tr>\n",
       "      <th>5</th>\n",
       "      <td>6</td>\n",
       "      <td>0</td>\n",
       "      <td>3</td>\n",
       "      <td>Moran, Mr. James</td>\n",
       "      <td>male</td>\n",
       "      <td>NaN</td>\n",
       "      <td>0</td>\n",
       "      <td>0</td>\n",
       "      <td>330877</td>\n",
       "      <td>8.4583</td>\n",
       "      <td>NaN</td>\n",
       "      <td>Q</td>\n",
       "    </tr>\n",
       "    <tr>\n",
       "      <th>6</th>\n",
       "      <td>7</td>\n",
       "      <td>0</td>\n",
       "      <td>1</td>\n",
       "      <td>McCarthy, Mr. Timothy J</td>\n",
       "      <td>male</td>\n",
       "      <td>54.0</td>\n",
       "      <td>0</td>\n",
       "      <td>0</td>\n",
       "      <td>17463</td>\n",
       "      <td>51.8625</td>\n",
       "      <td>E46</td>\n",
       "      <td>S</td>\n",
       "    </tr>\n",
       "    <tr>\n",
       "      <th>7</th>\n",
       "      <td>8</td>\n",
       "      <td>0</td>\n",
       "      <td>3</td>\n",
       "      <td>Palsson, Master. Gosta Leonard</td>\n",
       "      <td>male</td>\n",
       "      <td>2.0</td>\n",
       "      <td>3</td>\n",
       "      <td>1</td>\n",
       "      <td>349909</td>\n",
       "      <td>21.0750</td>\n",
       "      <td>NaN</td>\n",
       "      <td>S</td>\n",
       "    </tr>\n",
       "    <tr>\n",
       "      <th>8</th>\n",
       "      <td>9</td>\n",
       "      <td>1</td>\n",
       "      <td>3</td>\n",
       "      <td>Johnson, Mrs. Oscar W (Elisabeth Vilhelmina Berg)</td>\n",
       "      <td>female</td>\n",
       "      <td>27.0</td>\n",
       "      <td>0</td>\n",
       "      <td>2</td>\n",
       "      <td>347742</td>\n",
       "      <td>11.1333</td>\n",
       "      <td>NaN</td>\n",
       "      <td>S</td>\n",
       "    </tr>\n",
       "    <tr>\n",
       "      <th>9</th>\n",
       "      <td>10</td>\n",
       "      <td>1</td>\n",
       "      <td>2</td>\n",
       "      <td>Nasser, Mrs. Nicholas (Adele Achem)</td>\n",
       "      <td>female</td>\n",
       "      <td>14.0</td>\n",
       "      <td>1</td>\n",
       "      <td>0</td>\n",
       "      <td>237736</td>\n",
       "      <td>30.0708</td>\n",
       "      <td>NaN</td>\n",
       "      <td>C</td>\n",
       "    </tr>\n",
       "  </tbody>\n",
       "</table>\n",
       "</div>"
      ],
      "text/plain": [
       "   PassengerId  Survived  Pclass  \\\n",
       "0            1         0       3   \n",
       "1            2         1       1   \n",
       "2            3         1       3   \n",
       "3            4         1       1   \n",
       "4            5         0       3   \n",
       "5            6         0       3   \n",
       "6            7         0       1   \n",
       "7            8         0       3   \n",
       "8            9         1       3   \n",
       "9           10         1       2   \n",
       "\n",
       "                                                Name     Sex   Age  SibSp  \\\n",
       "0                            Braund, Mr. Owen Harris    male  22.0      1   \n",
       "1  Cumings, Mrs. John Bradley (Florence Briggs Th...  female  38.0      1   \n",
       "2                             Heikkinen, Miss. Laina  female  26.0      0   \n",
       "3       Futrelle, Mrs. Jacques Heath (Lily May Peel)  female  35.0      1   \n",
       "4                           Allen, Mr. William Henry    male  35.0      0   \n",
       "5                                   Moran, Mr. James    male   NaN      0   \n",
       "6                            McCarthy, Mr. Timothy J    male  54.0      0   \n",
       "7                     Palsson, Master. Gosta Leonard    male   2.0      3   \n",
       "8  Johnson, Mrs. Oscar W (Elisabeth Vilhelmina Berg)  female  27.0      0   \n",
       "9                Nasser, Mrs. Nicholas (Adele Achem)  female  14.0      1   \n",
       "\n",
       "   Parch            Ticket     Fare Cabin Embarked  \n",
       "0      0         A/5 21171   7.2500   NaN        S  \n",
       "1      0          PC 17599  71.2833   C85        C  \n",
       "2      0  STON/O2. 3101282   7.9250   NaN        S  \n",
       "3      0            113803  53.1000  C123        S  \n",
       "4      0            373450   8.0500   NaN        S  \n",
       "5      0            330877   8.4583   NaN        Q  \n",
       "6      0             17463  51.8625   E46        S  \n",
       "7      1            349909  21.0750   NaN        S  \n",
       "8      2            347742  11.1333   NaN        S  \n",
       "9      0            237736  30.0708   NaN        C  "
      ]
     },
     "execution_count": 5,
     "metadata": {},
     "output_type": "execute_result"
    }
   ],
   "source": [
    "# Look at data\n",
    "train_data.head(10)"
   ]
  },
  {
   "cell_type": "code",
   "execution_count": 6,
   "metadata": {
    "execution": {
     "iopub.execute_input": "2022-04-25T15:19:32.756877Z",
     "iopub.status.busy": "2022-04-25T15:19:32.756642Z",
     "iopub.status.idle": "2022-04-25T15:19:32.764426Z",
     "shell.execute_reply": "2022-04-25T15:19:32.763553Z",
     "shell.execute_reply.started": "2022-04-25T15:19:32.756849Z"
    }
   },
   "outputs": [
    {
     "name": "stdout",
     "output_type": "stream",
     "text": [
      "(418, 11)\n",
      "(891, 12)\n",
      "Index(['PassengerId', 'Survived', 'Pclass', 'Name', 'Sex', 'Age', 'SibSp',\n",
      "       'Parch', 'Ticket', 'Fare', 'Cabin', 'Embarked'],\n",
      "      dtype='object')\n",
      "PassengerId      int64\n",
      "Survived         int64\n",
      "Pclass           int64\n",
      "Name            object\n",
      "Sex             object\n",
      "Age            float64\n",
      "SibSp            int64\n",
      "Parch            int64\n",
      "Ticket          object\n",
      "Fare           float64\n",
      "Cabin           object\n",
      "Embarked        object\n",
      "dtype: object\n"
     ]
    }
   ],
   "source": [
    "# First glance at data: size, types\n",
    "print(test_data.shape)\n",
    "print(train_data.shape)\n",
    "print(train_data.columns)\n",
    "print(train_data.dtypes)"
   ]
  },
  {
   "cell_type": "code",
   "execution_count": 7,
   "metadata": {
    "execution": {
     "iopub.execute_input": "2022-04-25T15:19:32.765714Z",
     "iopub.status.busy": "2022-04-25T15:19:32.765503Z",
     "iopub.status.idle": "2022-04-25T15:19:32.807112Z",
     "shell.execute_reply": "2022-04-25T15:19:32.805948Z",
     "shell.execute_reply.started": "2022-04-25T15:19:32.765679Z"
    }
   },
   "outputs": [
    {
     "name": "stdout",
     "output_type": "stream",
     "text": [
      "\n",
      "PassengerId\n",
      "891    1\n",
      "293    1\n",
      "304    1\n",
      "303    1\n",
      "302    1\n",
      "      ..\n",
      "591    1\n",
      "590    1\n",
      "589    1\n",
      "588    1\n",
      "1      1\n",
      "Name: PassengerId, Length: 891, dtype: int64\n",
      "\n",
      "Survived\n",
      "0    549\n",
      "1    342\n",
      "Name: Survived, dtype: int64\n",
      "\n",
      "Pclass\n",
      "3    491\n",
      "1    216\n",
      "2    184\n",
      "Name: Pclass, dtype: int64\n",
      "\n",
      "Name\n",
      "Pickard, Mr. Berk (Berk Trembisky)           1\n",
      "Roebling, Mr. Washington Augustus II         1\n",
      "Perreault, Miss. Anne                        1\n",
      "Clifford, Mr. George Quincy                  1\n",
      "Parkes, Mr. Francis \"Frank\"                  1\n",
      "                                            ..\n",
      "de Pelsmaeker, Mr. Alfons                    1\n",
      "Dick, Mrs. Albert Adrian (Vera Gillespie)    1\n",
      "Cameron, Miss. Clear Annie                   1\n",
      "Attalah, Mr. Sleiman                         1\n",
      "Todoroff, Mr. Lalio                          1\n",
      "Name: Name, Length: 891, dtype: int64\n",
      "\n",
      "Sex\n",
      "male      577\n",
      "female    314\n",
      "Name: Sex, dtype: int64\n",
      "\n",
      "Age\n",
      "24.00    30\n",
      "22.00    27\n",
      "18.00    26\n",
      "19.00    25\n",
      "30.00    25\n",
      "         ..\n",
      "55.50     1\n",
      "70.50     1\n",
      "66.00     1\n",
      "23.50     1\n",
      "0.42      1\n",
      "Name: Age, Length: 88, dtype: int64\n",
      "\n",
      "SibSp\n",
      "0    608\n",
      "1    209\n",
      "2     28\n",
      "4     18\n",
      "3     16\n",
      "8      7\n",
      "5      5\n",
      "Name: SibSp, dtype: int64\n",
      "\n",
      "Parch\n",
      "0    678\n",
      "1    118\n",
      "2     80\n",
      "5      5\n",
      "3      5\n",
      "4      4\n",
      "6      1\n",
      "Name: Parch, dtype: int64\n",
      "\n",
      "Ticket\n",
      "347082      7\n",
      "CA. 2343    7\n",
      "1601        7\n",
      "347088      6\n",
      "CA 2144     6\n",
      "           ..\n",
      "113792      1\n",
      "349231      1\n",
      "111240      1\n",
      "PC 17596    1\n",
      "349249      1\n",
      "Name: Ticket, Length: 681, dtype: int64\n",
      "\n",
      "Fare\n",
      "8.0500     43\n",
      "13.0000    42\n",
      "7.8958     38\n",
      "7.7500     34\n",
      "26.0000    31\n",
      "           ..\n",
      "8.4583      1\n",
      "9.8375      1\n",
      "8.3625      1\n",
      "14.1083     1\n",
      "17.4000     1\n",
      "Name: Fare, Length: 248, dtype: int64\n",
      "\n",
      "Cabin\n",
      "B96 B98        4\n",
      "C23 C25 C27    4\n",
      "G6             4\n",
      "E101           3\n",
      "F33            3\n",
      "              ..\n",
      "A32            1\n",
      "B79            1\n",
      "C91            1\n",
      "E68            1\n",
      "F38            1\n",
      "Name: Cabin, Length: 147, dtype: int64\n",
      "\n",
      "Embarked\n",
      "S    644\n",
      "C    168\n",
      "Q     77\n",
      "Name: Embarked, dtype: int64\n"
     ]
    }
   ],
   "source": [
    "# First glance at data: cardinality\n",
    "for item in train_data.columns: \n",
    "    print(\"\\n{}\\n{}\".format(item, train_data[item].value_counts()))"
   ]
  },
  {
   "cell_type": "markdown",
   "metadata": {},
   "source": [
    "Form total dataset for some kinds of data analysis and engeenering"
   ]
  },
  {
   "cell_type": "code",
   "execution_count": 8,
   "metadata": {
    "execution": {
     "iopub.execute_input": "2022-04-25T15:19:32.808524Z",
     "iopub.status.busy": "2022-04-25T15:19:32.80825Z",
     "iopub.status.idle": "2022-04-25T15:19:32.815037Z",
     "shell.execute_reply": "2022-04-25T15:19:32.81418Z",
     "shell.execute_reply.started": "2022-04-25T15:19:32.80849Z"
    }
   },
   "outputs": [
    {
     "data": {
      "text/plain": [
       "(891, 342, 0.3838383838383838)"
      ]
     },
     "execution_count": 8,
     "metadata": {},
     "output_type": "execute_result"
    }
   ],
   "source": [
    "#First glance at data: 0/1 share\n",
    "train_data.shape[0],train_data['Survived'].sum(),train_data['Survived'].sum()/train_data.shape[0]"
   ]
  },
  {
   "cell_type": "code",
   "execution_count": 9,
   "metadata": {
    "execution": {
     "iopub.execute_input": "2022-04-25T15:19:32.817056Z",
     "iopub.status.busy": "2022-04-25T15:19:32.816581Z",
     "iopub.status.idle": "2022-04-25T15:19:32.843465Z",
     "shell.execute_reply": "2022-04-25T15:19:32.842829Z",
     "shell.execute_reply.started": "2022-04-25T15:19:32.817011Z"
    }
   },
   "outputs": [
    {
     "name": "stdout",
     "output_type": "stream",
     "text": [
      "Index(['PassengerId', 'Pclass', 'Name', 'Sex', 'Age', 'SibSp', 'Parch',\n",
      "       'Ticket', 'Fare', 'Cabin', 'Embarked'],\n",
      "      dtype='object') Index(['PassengerId', 'Survived', 'Pclass', 'Name', 'Sex', 'Age', 'SibSp',\n",
      "       'Parch', 'Ticket', 'Fare', 'Cabin', 'Embarked'],\n",
      "      dtype='object')\n"
     ]
    },
    {
     "data": {
      "text/html": [
       "<div>\n",
       "<style scoped>\n",
       "    .dataframe tbody tr th:only-of-type {\n",
       "        vertical-align: middle;\n",
       "    }\n",
       "\n",
       "    .dataframe tbody tr th {\n",
       "        vertical-align: top;\n",
       "    }\n",
       "\n",
       "    .dataframe thead th {\n",
       "        text-align: right;\n",
       "    }\n",
       "</style>\n",
       "<table border=\"1\" class=\"dataframe\">\n",
       "  <thead>\n",
       "    <tr style=\"text-align: right;\">\n",
       "      <th></th>\n",
       "      <th>PassengerId</th>\n",
       "      <th>Pclass</th>\n",
       "      <th>Name</th>\n",
       "      <th>Sex</th>\n",
       "      <th>Age</th>\n",
       "      <th>SibSp</th>\n",
       "      <th>Parch</th>\n",
       "      <th>Ticket</th>\n",
       "      <th>Fare</th>\n",
       "      <th>Cabin</th>\n",
       "      <th>Embarked</th>\n",
       "    </tr>\n",
       "  </thead>\n",
       "  <tbody>\n",
       "    <tr>\n",
       "      <th>0</th>\n",
       "      <td>1</td>\n",
       "      <td>3</td>\n",
       "      <td>Braund, Mr. Owen Harris</td>\n",
       "      <td>male</td>\n",
       "      <td>22.0</td>\n",
       "      <td>1</td>\n",
       "      <td>0</td>\n",
       "      <td>A/5 21171</td>\n",
       "      <td>7.2500</td>\n",
       "      <td>NaN</td>\n",
       "      <td>S</td>\n",
       "    </tr>\n",
       "    <tr>\n",
       "      <th>1</th>\n",
       "      <td>2</td>\n",
       "      <td>1</td>\n",
       "      <td>Cumings, Mrs. John Bradley (Florence Briggs Th...</td>\n",
       "      <td>female</td>\n",
       "      <td>38.0</td>\n",
       "      <td>1</td>\n",
       "      <td>0</td>\n",
       "      <td>PC 17599</td>\n",
       "      <td>71.2833</td>\n",
       "      <td>C85</td>\n",
       "      <td>C</td>\n",
       "    </tr>\n",
       "    <tr>\n",
       "      <th>2</th>\n",
       "      <td>3</td>\n",
       "      <td>3</td>\n",
       "      <td>Heikkinen, Miss. Laina</td>\n",
       "      <td>female</td>\n",
       "      <td>26.0</td>\n",
       "      <td>0</td>\n",
       "      <td>0</td>\n",
       "      <td>STON/O2. 3101282</td>\n",
       "      <td>7.9250</td>\n",
       "      <td>NaN</td>\n",
       "      <td>S</td>\n",
       "    </tr>\n",
       "    <tr>\n",
       "      <th>3</th>\n",
       "      <td>4</td>\n",
       "      <td>1</td>\n",
       "      <td>Futrelle, Mrs. Jacques Heath (Lily May Peel)</td>\n",
       "      <td>female</td>\n",
       "      <td>35.0</td>\n",
       "      <td>1</td>\n",
       "      <td>0</td>\n",
       "      <td>113803</td>\n",
       "      <td>53.1000</td>\n",
       "      <td>C123</td>\n",
       "      <td>S</td>\n",
       "    </tr>\n",
       "    <tr>\n",
       "      <th>4</th>\n",
       "      <td>5</td>\n",
       "      <td>3</td>\n",
       "      <td>Allen, Mr. William Henry</td>\n",
       "      <td>male</td>\n",
       "      <td>35.0</td>\n",
       "      <td>0</td>\n",
       "      <td>0</td>\n",
       "      <td>373450</td>\n",
       "      <td>8.0500</td>\n",
       "      <td>NaN</td>\n",
       "      <td>S</td>\n",
       "    </tr>\n",
       "    <tr>\n",
       "      <th>5</th>\n",
       "      <td>6</td>\n",
       "      <td>3</td>\n",
       "      <td>Moran, Mr. James</td>\n",
       "      <td>male</td>\n",
       "      <td>NaN</td>\n",
       "      <td>0</td>\n",
       "      <td>0</td>\n",
       "      <td>330877</td>\n",
       "      <td>8.4583</td>\n",
       "      <td>NaN</td>\n",
       "      <td>Q</td>\n",
       "    </tr>\n",
       "    <tr>\n",
       "      <th>6</th>\n",
       "      <td>7</td>\n",
       "      <td>1</td>\n",
       "      <td>McCarthy, Mr. Timothy J</td>\n",
       "      <td>male</td>\n",
       "      <td>54.0</td>\n",
       "      <td>0</td>\n",
       "      <td>0</td>\n",
       "      <td>17463</td>\n",
       "      <td>51.8625</td>\n",
       "      <td>E46</td>\n",
       "      <td>S</td>\n",
       "    </tr>\n",
       "    <tr>\n",
       "      <th>7</th>\n",
       "      <td>8</td>\n",
       "      <td>3</td>\n",
       "      <td>Palsson, Master. Gosta Leonard</td>\n",
       "      <td>male</td>\n",
       "      <td>2.0</td>\n",
       "      <td>3</td>\n",
       "      <td>1</td>\n",
       "      <td>349909</td>\n",
       "      <td>21.0750</td>\n",
       "      <td>NaN</td>\n",
       "      <td>S</td>\n",
       "    </tr>\n",
       "    <tr>\n",
       "      <th>8</th>\n",
       "      <td>9</td>\n",
       "      <td>3</td>\n",
       "      <td>Johnson, Mrs. Oscar W (Elisabeth Vilhelmina Berg)</td>\n",
       "      <td>female</td>\n",
       "      <td>27.0</td>\n",
       "      <td>0</td>\n",
       "      <td>2</td>\n",
       "      <td>347742</td>\n",
       "      <td>11.1333</td>\n",
       "      <td>NaN</td>\n",
       "      <td>S</td>\n",
       "    </tr>\n",
       "    <tr>\n",
       "      <th>9</th>\n",
       "      <td>10</td>\n",
       "      <td>2</td>\n",
       "      <td>Nasser, Mrs. Nicholas (Adele Achem)</td>\n",
       "      <td>female</td>\n",
       "      <td>14.0</td>\n",
       "      <td>1</td>\n",
       "      <td>0</td>\n",
       "      <td>237736</td>\n",
       "      <td>30.0708</td>\n",
       "      <td>NaN</td>\n",
       "      <td>C</td>\n",
       "    </tr>\n",
       "  </tbody>\n",
       "</table>\n",
       "</div>"
      ],
      "text/plain": [
       "   PassengerId  Pclass                                               Name  \\\n",
       "0            1       3                            Braund, Mr. Owen Harris   \n",
       "1            2       1  Cumings, Mrs. John Bradley (Florence Briggs Th...   \n",
       "2            3       3                             Heikkinen, Miss. Laina   \n",
       "3            4       1       Futrelle, Mrs. Jacques Heath (Lily May Peel)   \n",
       "4            5       3                           Allen, Mr. William Henry   \n",
       "5            6       3                                   Moran, Mr. James   \n",
       "6            7       1                            McCarthy, Mr. Timothy J   \n",
       "7            8       3                     Palsson, Master. Gosta Leonard   \n",
       "8            9       3  Johnson, Mrs. Oscar W (Elisabeth Vilhelmina Berg)   \n",
       "9           10       2                Nasser, Mrs. Nicholas (Adele Achem)   \n",
       "\n",
       "      Sex   Age  SibSp  Parch            Ticket     Fare Cabin Embarked  \n",
       "0    male  22.0      1      0         A/5 21171   7.2500   NaN        S  \n",
       "1  female  38.0      1      0          PC 17599  71.2833   C85        C  \n",
       "2  female  26.0      0      0  STON/O2. 3101282   7.9250   NaN        S  \n",
       "3  female  35.0      1      0            113803  53.1000  C123        S  \n",
       "4    male  35.0      0      0            373450   8.0500   NaN        S  \n",
       "5    male   NaN      0      0            330877   8.4583   NaN        Q  \n",
       "6    male  54.0      0      0             17463  51.8625   E46        S  \n",
       "7    male   2.0      3      1            349909  21.0750   NaN        S  \n",
       "8  female  27.0      0      2            347742  11.1333   NaN        S  \n",
       "9  female  14.0      1      0            237736  30.0708   NaN        C  "
      ]
     },
     "execution_count": 9,
     "metadata": {},
     "output_type": "execute_result"
    }
   ],
   "source": [
    "# drop depending column Survived\n",
    "train_without_y = train_data.drop('Survived',axis =1)\n",
    "print(train_without_y.columns,train_data.columns)\n",
    "train_without_y.head(10)"
   ]
  },
  {
   "cell_type": "code",
   "execution_count": 10,
   "metadata": {
    "execution": {
     "iopub.execute_input": "2022-04-25T15:19:32.845038Z",
     "iopub.status.busy": "2022-04-25T15:19:32.844621Z",
     "iopub.status.idle": "2022-04-25T15:19:32.874729Z",
     "shell.execute_reply": "2022-04-25T15:19:32.874025Z",
     "shell.execute_reply.started": "2022-04-25T15:19:32.845005Z"
    }
   },
   "outputs": [
    {
     "data": {
      "text/html": [
       "<div>\n",
       "<style scoped>\n",
       "    .dataframe tbody tr th:only-of-type {\n",
       "        vertical-align: middle;\n",
       "    }\n",
       "\n",
       "    .dataframe tbody tr th {\n",
       "        vertical-align: top;\n",
       "    }\n",
       "\n",
       "    .dataframe thead th {\n",
       "        text-align: right;\n",
       "    }\n",
       "</style>\n",
       "<table border=\"1\" class=\"dataframe\">\n",
       "  <thead>\n",
       "    <tr style=\"text-align: right;\">\n",
       "      <th></th>\n",
       "      <th>PassengerId</th>\n",
       "      <th>Pclass</th>\n",
       "      <th>Name</th>\n",
       "      <th>Sex</th>\n",
       "      <th>Age</th>\n",
       "      <th>SibSp</th>\n",
       "      <th>Parch</th>\n",
       "      <th>Ticket</th>\n",
       "      <th>Fare</th>\n",
       "      <th>Cabin</th>\n",
       "      <th>Embarked</th>\n",
       "    </tr>\n",
       "  </thead>\n",
       "  <tbody>\n",
       "    <tr>\n",
       "      <th>0</th>\n",
       "      <td>1</td>\n",
       "      <td>3</td>\n",
       "      <td>Braund, Mr. Owen Harris</td>\n",
       "      <td>male</td>\n",
       "      <td>22.0</td>\n",
       "      <td>1</td>\n",
       "      <td>0</td>\n",
       "      <td>A/5 21171</td>\n",
       "      <td>7.2500</td>\n",
       "      <td>NaN</td>\n",
       "      <td>S</td>\n",
       "    </tr>\n",
       "    <tr>\n",
       "      <th>1</th>\n",
       "      <td>2</td>\n",
       "      <td>1</td>\n",
       "      <td>Cumings, Mrs. John Bradley (Florence Briggs Th...</td>\n",
       "      <td>female</td>\n",
       "      <td>38.0</td>\n",
       "      <td>1</td>\n",
       "      <td>0</td>\n",
       "      <td>PC 17599</td>\n",
       "      <td>71.2833</td>\n",
       "      <td>C85</td>\n",
       "      <td>C</td>\n",
       "    </tr>\n",
       "    <tr>\n",
       "      <th>2</th>\n",
       "      <td>3</td>\n",
       "      <td>3</td>\n",
       "      <td>Heikkinen, Miss. Laina</td>\n",
       "      <td>female</td>\n",
       "      <td>26.0</td>\n",
       "      <td>0</td>\n",
       "      <td>0</td>\n",
       "      <td>STON/O2. 3101282</td>\n",
       "      <td>7.9250</td>\n",
       "      <td>NaN</td>\n",
       "      <td>S</td>\n",
       "    </tr>\n",
       "    <tr>\n",
       "      <th>3</th>\n",
       "      <td>4</td>\n",
       "      <td>1</td>\n",
       "      <td>Futrelle, Mrs. Jacques Heath (Lily May Peel)</td>\n",
       "      <td>female</td>\n",
       "      <td>35.0</td>\n",
       "      <td>1</td>\n",
       "      <td>0</td>\n",
       "      <td>113803</td>\n",
       "      <td>53.1000</td>\n",
       "      <td>C123</td>\n",
       "      <td>S</td>\n",
       "    </tr>\n",
       "    <tr>\n",
       "      <th>4</th>\n",
       "      <td>5</td>\n",
       "      <td>3</td>\n",
       "      <td>Allen, Mr. William Henry</td>\n",
       "      <td>male</td>\n",
       "      <td>35.0</td>\n",
       "      <td>0</td>\n",
       "      <td>0</td>\n",
       "      <td>373450</td>\n",
       "      <td>8.0500</td>\n",
       "      <td>NaN</td>\n",
       "      <td>S</td>\n",
       "    </tr>\n",
       "    <tr>\n",
       "      <th>...</th>\n",
       "      <td>...</td>\n",
       "      <td>...</td>\n",
       "      <td>...</td>\n",
       "      <td>...</td>\n",
       "      <td>...</td>\n",
       "      <td>...</td>\n",
       "      <td>...</td>\n",
       "      <td>...</td>\n",
       "      <td>...</td>\n",
       "      <td>...</td>\n",
       "      <td>...</td>\n",
       "    </tr>\n",
       "    <tr>\n",
       "      <th>413</th>\n",
       "      <td>1305</td>\n",
       "      <td>3</td>\n",
       "      <td>Spector, Mr. Woolf</td>\n",
       "      <td>male</td>\n",
       "      <td>NaN</td>\n",
       "      <td>0</td>\n",
       "      <td>0</td>\n",
       "      <td>A.5. 3236</td>\n",
       "      <td>8.0500</td>\n",
       "      <td>NaN</td>\n",
       "      <td>S</td>\n",
       "    </tr>\n",
       "    <tr>\n",
       "      <th>414</th>\n",
       "      <td>1306</td>\n",
       "      <td>1</td>\n",
       "      <td>Oliva y Ocana, Dona. Fermina</td>\n",
       "      <td>female</td>\n",
       "      <td>39.0</td>\n",
       "      <td>0</td>\n",
       "      <td>0</td>\n",
       "      <td>PC 17758</td>\n",
       "      <td>108.9000</td>\n",
       "      <td>C105</td>\n",
       "      <td>C</td>\n",
       "    </tr>\n",
       "    <tr>\n",
       "      <th>415</th>\n",
       "      <td>1307</td>\n",
       "      <td>3</td>\n",
       "      <td>Saether, Mr. Simon Sivertsen</td>\n",
       "      <td>male</td>\n",
       "      <td>38.5</td>\n",
       "      <td>0</td>\n",
       "      <td>0</td>\n",
       "      <td>SOTON/O.Q. 3101262</td>\n",
       "      <td>7.2500</td>\n",
       "      <td>NaN</td>\n",
       "      <td>S</td>\n",
       "    </tr>\n",
       "    <tr>\n",
       "      <th>416</th>\n",
       "      <td>1308</td>\n",
       "      <td>3</td>\n",
       "      <td>Ware, Mr. Frederick</td>\n",
       "      <td>male</td>\n",
       "      <td>NaN</td>\n",
       "      <td>0</td>\n",
       "      <td>0</td>\n",
       "      <td>359309</td>\n",
       "      <td>8.0500</td>\n",
       "      <td>NaN</td>\n",
       "      <td>S</td>\n",
       "    </tr>\n",
       "    <tr>\n",
       "      <th>417</th>\n",
       "      <td>1309</td>\n",
       "      <td>3</td>\n",
       "      <td>Peter, Master. Michael J</td>\n",
       "      <td>male</td>\n",
       "      <td>NaN</td>\n",
       "      <td>1</td>\n",
       "      <td>1</td>\n",
       "      <td>2668</td>\n",
       "      <td>22.3583</td>\n",
       "      <td>NaN</td>\n",
       "      <td>C</td>\n",
       "    </tr>\n",
       "  </tbody>\n",
       "</table>\n",
       "<p>1309 rows × 11 columns</p>\n",
       "</div>"
      ],
      "text/plain": [
       "     PassengerId  Pclass                                               Name  \\\n",
       "0              1       3                            Braund, Mr. Owen Harris   \n",
       "1              2       1  Cumings, Mrs. John Bradley (Florence Briggs Th...   \n",
       "2              3       3                             Heikkinen, Miss. Laina   \n",
       "3              4       1       Futrelle, Mrs. Jacques Heath (Lily May Peel)   \n",
       "4              5       3                           Allen, Mr. William Henry   \n",
       "..           ...     ...                                                ...   \n",
       "413         1305       3                                 Spector, Mr. Woolf   \n",
       "414         1306       1                       Oliva y Ocana, Dona. Fermina   \n",
       "415         1307       3                       Saether, Mr. Simon Sivertsen   \n",
       "416         1308       3                                Ware, Mr. Frederick   \n",
       "417         1309       3                           Peter, Master. Michael J   \n",
       "\n",
       "        Sex   Age  SibSp  Parch              Ticket      Fare Cabin Embarked  \n",
       "0      male  22.0      1      0           A/5 21171    7.2500   NaN        S  \n",
       "1    female  38.0      1      0            PC 17599   71.2833   C85        C  \n",
       "2    female  26.0      0      0    STON/O2. 3101282    7.9250   NaN        S  \n",
       "3    female  35.0      1      0              113803   53.1000  C123        S  \n",
       "4      male  35.0      0      0              373450    8.0500   NaN        S  \n",
       "..      ...   ...    ...    ...                 ...       ...   ...      ...  \n",
       "413    male   NaN      0      0           A.5. 3236    8.0500   NaN        S  \n",
       "414  female  39.0      0      0            PC 17758  108.9000  C105        C  \n",
       "415    male  38.5      0      0  SOTON/O.Q. 3101262    7.2500   NaN        S  \n",
       "416    male   NaN      0      0              359309    8.0500   NaN        S  \n",
       "417    male   NaN      1      1                2668   22.3583   NaN        C  \n",
       "\n",
       "[1309 rows x 11 columns]"
      ]
     },
     "execution_count": 10,
     "metadata": {},
     "output_type": "execute_result"
    }
   ],
   "source": [
    "# form common dataset\n",
    "dataset_X = pd.concat([train_without_y,test_data])\n",
    "dataset_X.reindex()"
   ]
  },
  {
   "cell_type": "code",
   "execution_count": 11,
   "metadata": {
    "execution": {
     "iopub.execute_input": "2022-04-25T15:19:32.877317Z",
     "iopub.status.busy": "2022-04-25T15:19:32.877069Z",
     "iopub.status.idle": "2022-04-25T15:19:32.897216Z",
     "shell.execute_reply": "2022-04-25T15:19:32.896418Z",
     "shell.execute_reply.started": "2022-04-25T15:19:32.877287Z"
    }
   },
   "outputs": [
    {
     "name": "stdout",
     "output_type": "stream",
     "text": [
      "Nun stat:\n",
      "(number of passagers: 1309 )\n"
     ]
    },
    {
     "data": {
      "text/html": [
       "<div>\n",
       "<style scoped>\n",
       "    .dataframe tbody tr th:only-of-type {\n",
       "        vertical-align: middle;\n",
       "    }\n",
       "\n",
       "    .dataframe tbody tr th {\n",
       "        vertical-align: top;\n",
       "    }\n",
       "\n",
       "    .dataframe thead th {\n",
       "        text-align: right;\n",
       "    }\n",
       "</style>\n",
       "<table border=\"1\" class=\"dataframe\">\n",
       "  <thead>\n",
       "    <tr style=\"text-align: right;\">\n",
       "      <th></th>\n",
       "      <th>total_N</th>\n",
       "      <th>total_Percent</th>\n",
       "      <th>train_N</th>\n",
       "      <th>train_Percent</th>\n",
       "    </tr>\n",
       "  </thead>\n",
       "  <tbody>\n",
       "    <tr>\n",
       "      <th>PassengerId</th>\n",
       "      <td>0</td>\n",
       "      <td>0.000000</td>\n",
       "      <td>0</td>\n",
       "      <td>0.000000</td>\n",
       "    </tr>\n",
       "    <tr>\n",
       "      <th>Pclass</th>\n",
       "      <td>0</td>\n",
       "      <td>0.000000</td>\n",
       "      <td>0</td>\n",
       "      <td>0.000000</td>\n",
       "    </tr>\n",
       "    <tr>\n",
       "      <th>Name</th>\n",
       "      <td>0</td>\n",
       "      <td>0.000000</td>\n",
       "      <td>0</td>\n",
       "      <td>0.000000</td>\n",
       "    </tr>\n",
       "    <tr>\n",
       "      <th>Sex</th>\n",
       "      <td>0</td>\n",
       "      <td>0.000000</td>\n",
       "      <td>0</td>\n",
       "      <td>0.000000</td>\n",
       "    </tr>\n",
       "    <tr>\n",
       "      <th>Age</th>\n",
       "      <td>263</td>\n",
       "      <td>0.200917</td>\n",
       "      <td>177</td>\n",
       "      <td>0.198653</td>\n",
       "    </tr>\n",
       "    <tr>\n",
       "      <th>SibSp</th>\n",
       "      <td>0</td>\n",
       "      <td>0.000000</td>\n",
       "      <td>0</td>\n",
       "      <td>0.000000</td>\n",
       "    </tr>\n",
       "    <tr>\n",
       "      <th>Parch</th>\n",
       "      <td>0</td>\n",
       "      <td>0.000000</td>\n",
       "      <td>0</td>\n",
       "      <td>0.000000</td>\n",
       "    </tr>\n",
       "    <tr>\n",
       "      <th>Ticket</th>\n",
       "      <td>0</td>\n",
       "      <td>0.000000</td>\n",
       "      <td>0</td>\n",
       "      <td>0.000000</td>\n",
       "    </tr>\n",
       "    <tr>\n",
       "      <th>Fare</th>\n",
       "      <td>1</td>\n",
       "      <td>0.000764</td>\n",
       "      <td>0</td>\n",
       "      <td>0.000000</td>\n",
       "    </tr>\n",
       "    <tr>\n",
       "      <th>Cabin</th>\n",
       "      <td>1014</td>\n",
       "      <td>0.774637</td>\n",
       "      <td>687</td>\n",
       "      <td>0.771044</td>\n",
       "    </tr>\n",
       "    <tr>\n",
       "      <th>Embarked</th>\n",
       "      <td>2</td>\n",
       "      <td>0.001528</td>\n",
       "      <td>2</td>\n",
       "      <td>0.002245</td>\n",
       "    </tr>\n",
       "  </tbody>\n",
       "</table>\n",
       "</div>"
      ],
      "text/plain": [
       "             total_N  total_Percent  train_N  train_Percent\n",
       "PassengerId        0       0.000000        0       0.000000\n",
       "Pclass             0       0.000000        0       0.000000\n",
       "Name               0       0.000000        0       0.000000\n",
       "Sex                0       0.000000        0       0.000000\n",
       "Age              263       0.200917      177       0.198653\n",
       "SibSp              0       0.000000        0       0.000000\n",
       "Parch              0       0.000000        0       0.000000\n",
       "Ticket             0       0.000000        0       0.000000\n",
       "Fare               1       0.000764        0       0.000000\n",
       "Cabin           1014       0.774637      687       0.771044\n",
       "Embarked           2       0.001528        2       0.002245"
      ]
     },
     "execution_count": 11,
     "metadata": {},
     "output_type": "execute_result"
    }
   ],
   "source": [
    "# Check fo Nan: stat\n",
    "Isnull_stat = pd.DataFrame({'total_N'      :dataset_X.isnull().sum(),\n",
    "                            'total_Percent':dataset_X.isnull().mean(),\n",
    "                            'train_N'      :train_without_y.isnull().sum(),\n",
    "                            'train_Percent':train_without_y.isnull().mean()})\n",
    "print('Nun stat:')\n",
    "print('(number of passagers:',dataset_X.shape[0],')')\n",
    "Isnull_stat"
   ]
  },
  {
   "cell_type": "markdown",
   "metadata": {},
   "source": [
    "Missing data check"
   ]
  },
  {
   "cell_type": "code",
   "execution_count": 12,
   "metadata": {
    "execution": {
     "iopub.execute_input": "2022-04-25T15:19:32.898496Z",
     "iopub.status.busy": "2022-04-25T15:19:32.898264Z",
     "iopub.status.idle": "2022-04-25T15:19:32.908031Z",
     "shell.execute_reply": "2022-04-25T15:19:32.907214Z",
     "shell.execute_reply.started": "2022-04-25T15:19:32.898468Z"
    }
   },
   "outputs": [
    {
     "data": {
      "text/plain": [
       "['Age', 'Fare', 'Cabin', 'Embarked']"
      ]
     },
     "execution_count": 12,
     "metadata": {},
     "output_type": "execute_result"
    }
   ],
   "source": [
    "# List of columns with NaN\n",
    "columns_nun = [ item for item in dataset_X.columns if (dataset_X[item].isnull().values.any() == True)]\n",
    "columns_nun"
   ]
  },
  {
   "cell_type": "code",
   "execution_count": 13,
   "metadata": {
    "execution": {
     "iopub.execute_input": "2022-04-25T15:19:32.909361Z",
     "iopub.status.busy": "2022-04-25T15:19:32.909149Z",
     "iopub.status.idle": "2022-04-25T15:19:32.922711Z",
     "shell.execute_reply": "2022-04-25T15:19:32.921892Z",
     "shell.execute_reply.started": "2022-04-25T15:19:32.909334Z"
    }
   },
   "outputs": [
    {
     "name": "stdout",
     "output_type": "stream",
     "text": [
      "1309\n"
     ]
    },
    {
     "data": {
      "text/plain": [
       "['Age', 'Cabin']"
      ]
     },
     "execution_count": 13,
     "metadata": {},
     "output_type": "execute_result"
    }
   ],
   "source": [
    "# Select columns with many Nan\n",
    "lines_N = dataset_X.shape[0]\n",
    "print(lines_N)\n",
    "treshold_nun = 0.05\n",
    "columns_many_nun = [ item for item in columns_nun if (dataset_X[item].isnull().values.sum()/lines_N > treshold_nun)]\n",
    "columns_many_nun"
   ]
  },
  {
   "cell_type": "code",
   "execution_count": 14,
   "metadata": {
    "execution": {
     "iopub.execute_input": "2022-04-25T15:19:32.924125Z",
     "iopub.status.busy": "2022-04-25T15:19:32.923846Z",
     "iopub.status.idle": "2022-04-25T15:19:32.939486Z",
     "shell.execute_reply": "2022-04-25T15:19:32.937622Z",
     "shell.execute_reply.started": "2022-04-25T15:19:32.924095Z"
    }
   },
   "outputs": [
    {
     "data": {
      "text/plain": [
       "['Fare', 'Embarked']"
      ]
     },
     "execution_count": 14,
     "metadata": {},
     "output_type": "execute_result"
    }
   ],
   "source": [
    "# Select columns with a little Nan\n",
    "columns_few_nun  = [item for item in columns_nun if (item not in columns_many_nun)]\n",
    "columns_few_nun"
   ]
  },
  {
   "cell_type": "code",
   "execution_count": 15,
   "metadata": {
    "execution": {
     "iopub.execute_input": "2022-04-25T15:19:32.941572Z",
     "iopub.status.busy": "2022-04-25T15:19:32.941228Z",
     "iopub.status.idle": "2022-04-25T15:19:32.954817Z",
     "shell.execute_reply": "2022-04-25T15:19:32.953724Z",
     "shell.execute_reply.started": "2022-04-25T15:19:32.941529Z"
    }
   },
   "outputs": [
    {
     "data": {
      "text/plain": [
       "Age         float64\n",
       "Fare        float64\n",
       "Cabin        object\n",
       "Embarked     object\n",
       "dtype: object"
      ]
     },
     "execution_count": 15,
     "metadata": {},
     "output_type": "execute_result"
    }
   ],
   "source": [
    "# columns_nun dtypes\n",
    "dataset_X[columns_nun].dtypes"
   ]
  },
  {
   "cell_type": "code",
   "execution_count": 16,
   "metadata": {
    "execution": {
     "iopub.execute_input": "2022-04-25T15:19:32.957707Z",
     "iopub.status.busy": "2022-04-25T15:19:32.957056Z",
     "iopub.status.idle": "2022-04-25T15:19:32.968223Z",
     "shell.execute_reply": "2022-04-25T15:19:32.967515Z",
     "shell.execute_reply.started": "2022-04-25T15:19:32.95766Z"
    }
   },
   "outputs": [
    {
     "name": "stdout",
     "output_type": "stream",
     "text": [
      "32.2042079685746\n",
      "0\n",
      "0\n"
     ]
    }
   ],
   "source": [
    "# First fill \"few\" gaps. Numerical var\n",
    "mean_tr = train_data['Fare'].mean()\n",
    "#train_data.loc[:,'Fare'] = train_data['Fare'].fillna(mean_tr)\n",
    "#test_data.loc [:,'Fare'] = test_data ['Fare'].fillna(mean_tr)\n",
    "train_data['Fare'].fillna(mean_tr, inplace = True)\n",
    "test_data ['Fare'].fillna(mean_tr, inplace = True)\n",
    "print(mean_tr)\n",
    "print(train_data['Fare'].isnull().sum())\n",
    "print(test_data ['Fare'].isnull().sum())"
   ]
  },
  {
   "cell_type": "code",
   "execution_count": 17,
   "metadata": {
    "execution": {
     "iopub.execute_input": "2022-04-25T15:19:32.969972Z",
     "iopub.status.busy": "2022-04-25T15:19:32.969494Z",
     "iopub.status.idle": "2022-04-25T15:19:32.993393Z",
     "shell.execute_reply": "2022-04-25T15:19:32.992456Z",
     "shell.execute_reply.started": "2022-04-25T15:19:32.969932Z"
    }
   },
   "outputs": [
    {
     "name": "stdout",
     "output_type": "stream",
     "text": [
      "more_oftem_embarked =   S\n",
      "0\n",
      "0\n"
     ]
    },
    {
     "data": {
      "text/plain": [
       "(S    646\n",
       " C    168\n",
       " Q     77\n",
       " Name: Embarked, dtype: int64,\n",
       " 0)"
      ]
     },
     "execution_count": 17,
     "metadata": {},
     "output_type": "execute_result"
    }
   ],
   "source": [
    "# First fill \"few\" gaps. Categorial var\n",
    "more_often_embarked_s = train_data['Embarked'].mode()\n",
    "more_often_embarked   = more_often_embarked_s[0] \n",
    "train_data['Embarked'].fillna(more_often_embarked, inplace = True)\n",
    "test_data ['Embarked'].fillna(more_often_embarked, inplace = True)\n",
    "\n",
    "print('more_oftem_embarked =  ',more_often_embarked)\n",
    "print(train_data['Embarked'].isnull().sum())\n",
    "print(test_data ['Embarked'].isnull().sum())\n",
    "train_data['Embarked'].value_counts(),train_data['Embarked'].isnull().sum()"
   ]
  },
  {
   "cell_type": "code",
   "execution_count": 18,
   "metadata": {
    "execution": {
     "iopub.execute_input": "2022-04-25T15:19:32.995065Z",
     "iopub.status.busy": "2022-04-25T15:19:32.994339Z",
     "iopub.status.idle": "2022-04-25T15:19:33.008186Z",
     "shell.execute_reply": "2022-04-25T15:19:33.00723Z",
     "shell.execute_reply.started": "2022-04-25T15:19:32.995033Z"
    }
   },
   "outputs": [
    {
     "name": "stdout",
     "output_type": "stream",
     "text": [
      "median_age:  28.0\n"
     ]
    },
    {
     "data": {
      "text/plain": [
       "(0, 0)"
      ]
     },
     "execution_count": 18,
     "metadata": {},
     "output_type": "execute_result"
    }
   ],
   "source": [
    "# Start with \"many gap\" var. Age\n",
    "median_age = train_data['Age'].median()\n",
    "print('median_age: ',median_age)\n",
    "train_data['Age'].fillna(median_age, inplace = True)\n",
    "test_data ['Age'].fillna(median_age, inplace = True)\n",
    "train_data['Age'].isnull().sum(),test_data['Age'].isnull().sum()"
   ]
  },
  {
   "cell_type": "markdown",
   "metadata": {},
   "source": [
    "Many Nan: Cabin"
   ]
  },
  {
   "cell_type": "code",
   "execution_count": 19,
   "metadata": {
    "execution": {
     "iopub.execute_input": "2022-04-25T15:19:33.010206Z",
     "iopub.status.busy": "2022-04-25T15:19:33.009784Z",
     "iopub.status.idle": "2022-04-25T15:19:33.018207Z",
     "shell.execute_reply": "2022-04-25T15:19:33.01757Z",
     "shell.execute_reply.started": "2022-04-25T15:19:33.010175Z"
    }
   },
   "outputs": [
    {
     "name": "stdout",
     "output_type": "stream",
     "text": [
      "186\n",
      "C23 C25 C27        6\n",
      "B57 B59 B63 B66    5\n",
      "G6                 5\n",
      "F33                4\n",
      "C22 C26            4\n",
      "                  ..\n",
      "B73                1\n",
      "B3                 1\n",
      "B36                1\n",
      "B82 B84            1\n",
      "C97                1\n",
      "Name: Cabin, Length: 186, dtype: int64\n",
      "N of Lines: 1309   N of Nun: 1014\n"
     ]
    }
   ],
   "source": [
    "# Cabin: stat\n",
    "value_count = dataset_X['Cabin'].value_counts()\n",
    "print(len(value_count))\n",
    "print(value_count)\n",
    "print('N of Lines:',dataset_X.shape[0],'  N of Nun:',dataset_X['Cabin'].isnull().sum())"
   ]
  },
  {
   "cell_type": "code",
   "execution_count": 20,
   "metadata": {
    "execution": {
     "iopub.execute_input": "2022-04-25T15:19:33.019924Z",
     "iopub.status.busy": "2022-04-25T15:19:33.019553Z",
     "iopub.status.idle": "2022-04-25T15:19:33.033193Z",
     "shell.execute_reply": "2022-04-25T15:19:33.032355Z",
     "shell.execute_reply.started": "2022-04-25T15:19:33.019884Z"
    }
   },
   "outputs": [
    {
     "name": "stdout",
     "output_type": "stream",
     "text": [
      "[nan 'C' 'E' 'G' 'D' 'A' 'B' 'F' 'T']\n",
      "C    59\n",
      "B    47\n",
      "D    33\n",
      "E    32\n",
      "A    15\n",
      "F    13\n",
      "G     4\n",
      "T     1\n",
      "Name: Cabin_letter, dtype: int64\n",
      "687 891 204\n"
     ]
    }
   ],
   "source": [
    "# 'Cabin' is mixed variable - need to be divided\n",
    "train_data['Cabin_letter'] = train_data['Cabin'].str[0]\n",
    "test_data ['Cabin_letter'] = test_data ['Cabin'].str[0]\n",
    "print(train_data['Cabin_letter'].unique())\n",
    "print(train_data['Cabin_letter'].value_counts())\n",
    "print(train_data['Cabin_letter'].isnull().sum(),\n",
    "      train_data.shape[0],\n",
    "      train_data.shape[0]-train_data['Cabin_letter'].isnull().sum())"
   ]
  },
  {
   "cell_type": "code",
   "execution_count": 21,
   "metadata": {
    "execution": {
     "iopub.execute_input": "2022-04-25T15:19:33.035609Z",
     "iopub.status.busy": "2022-04-25T15:19:33.034766Z",
     "iopub.status.idle": "2022-04-25T15:19:33.049988Z",
     "shell.execute_reply": "2022-04-25T15:19:33.049089Z",
     "shell.execute_reply.started": "2022-04-25T15:19:33.035522Z"
    }
   },
   "outputs": [
    {
     "name": "stdout",
     "output_type": "stream",
     "text": [
      "[nan '85' '123' '46' '6' '103' '56' '23' '78' '33' '30' '52' '28' '83'\n",
      " '73' '31' '5' '10' '26' '110' '58' '101' '69' '47' '86' '2' '19' '7' '49'\n",
      " '4' '32' '80' '36' '15' '93' '35' '87' '77' '67' '94' '125' '99' '118'\n",
      " '22' '106' '65' '54' '57' '34' '18' '124' '91' '40' '128' '37' '50' '82'\n",
      " '96' '44' '104' '111' '92' '38' '21' '12' '63' '14' '20' '79' '25' '95'\n",
      " '39' '70' '16' '68' '41' '9' '48' '126' '71' '51' '62' '24' '90' '45' '8'\n",
      " '121' '11' '3' '17' '102' '42' '148'] 93\n",
      "33     7\n",
      "6      6\n",
      "2      5\n",
      "23     5\n",
      "22     5\n",
      "      ..\n",
      "103    1\n",
      "15     1\n",
      "128    1\n",
      "110    1\n",
      "62     1\n",
      "Name: Cabin_n, Length: 92, dtype: int64\n",
      "691 891 200\n"
     ]
    }
   ],
   "source": [
    "train_data['Cabin_n'] = train_data['Cabin'].str.extract('(\\d+)')\n",
    "test_data ['Cabin_n'] = test_data ['Cabin'].str.extract('(\\d+)')\n",
    "print(train_data['Cabin_n'].unique(),len(train_data['Cabin_n'].unique()))\n",
    "print(train_data['Cabin_n'].value_counts())\n",
    "print(train_data['Cabin_n'].isnull().sum(),\n",
    "      train_data.shape[0],\n",
    "      train_data.shape[0]-train_data['Cabin_n'].isnull().sum())"
   ]
  },
  {
   "cell_type": "code",
   "execution_count": 22,
   "metadata": {
    "execution": {
     "iopub.execute_input": "2022-04-25T15:19:33.052588Z",
     "iopub.status.busy": "2022-04-25T15:19:33.051747Z",
     "iopub.status.idle": "2022-04-25T15:19:33.068917Z",
     "shell.execute_reply": "2022-04-25T15:19:33.067972Z",
     "shell.execute_reply.started": "2022-04-25T15:19:33.052539Z"
    }
   },
   "outputs": [],
   "source": [
    "# change 'Embarked' and 'Sex' type (for correct corr work):\n",
    "#train_data['Embarked']  = train_data['Embarked'].astype('string')\n",
    "#test_data ['Embarked']  = test_data ['Embarked'].astype('string')\n",
    "\n",
    "#train_data['Sex']       = train_data['Sex'].astype('string')\n",
    "#test_data ['Sex']       = test_data ['Sex'].astype('string')\n",
    "# different version of python let to different result including \"TypeError: data type \"string\" not understood\""
   ]
  },
  {
   "cell_type": "code",
   "execution_count": 23,
   "metadata": {
    "execution": {
     "iopub.execute_input": "2022-04-25T15:19:33.071277Z",
     "iopub.status.busy": "2022-04-25T15:19:33.070712Z",
     "iopub.status.idle": "2022-04-25T15:19:33.103124Z",
     "shell.execute_reply": "2022-04-25T15:19:33.102241Z",
     "shell.execute_reply.started": "2022-04-25T15:19:33.071232Z"
    }
   },
   "outputs": [
    {
     "name": "stdout",
     "output_type": "stream",
     "text": [
      "\n",
      "\n",
      "'Spearman:'\n",
      "Index(['PassengerId', 'Survived', 'Pclass', 'Age', 'SibSp', 'Parch', 'Fare',\n",
      "       'Cabin_letter', 'Cabin_n', 'Sex_n'],\n",
      "      dtype='object')\n",
      "              Cabin_letter   Cabin_n\n",
      "PassengerId      -0.069055  0.040026\n",
      "Survived          0.047256 -0.069445\n",
      "Pclass            0.553154 -0.079801\n",
      "Age              -0.086763  0.047201\n",
      "SibSp             0.078738 -0.045723\n",
      "Parch             0.049733 -0.127942\n",
      "Fare             -0.350580  0.104461\n",
      "Cabin_letter      1.000000 -0.099209\n",
      "Cabin_n          -0.099209  1.000000\n",
      "Sex_n             0.077802 -0.052294\n",
      "\n",
      "\n",
      "'Person  :'\n",
      "Index(['PassengerId', 'Survived', 'Pclass', 'Age', 'SibSp', 'Parch', 'Fare',\n",
      "       'Cabin_letter', 'Cabin_n', 'Sex_n'],\n",
      "      dtype='object')\n",
      "              Cabin_letter   Cabin_n\n",
      "PassengerId      -0.081550  0.035941\n",
      "Survived          0.042262 -0.063747\n",
      "Pclass            0.621100 -0.036776\n",
      "Age              -0.174590  0.034167\n",
      "SibSp             0.052532 -0.064264\n",
      "Parch             0.037476 -0.117619\n",
      "Fare             -0.293961  0.052416\n",
      "Cabin_letter      1.000000 -0.125104\n",
      "Cabin_n          -0.125104  1.000000\n",
      "Sex_n             0.095339 -0.053187\n"
     ]
    }
   ],
   "source": [
    "# to fill gaps in 'Cabin_letter' and 'Cabin_n' lets look at correlation. Hypophesis is that 'CabinLetter' is in correlation with class, fare and ore may be ticket number  \n",
    "train_data_drop_na_for_corr = train_data.dropna().copy()\n",
    "#print(train_data_drop_na_for_corr.isnull().sum(),\n",
    "#      train_data_drop_na_for_corr.columns,\n",
    "#      train_data_drop_na_for_corr.dtypes)\n",
    "train_data_drop_na_for_corr['Cabin_letter'] = train_data_drop_na_for_corr['Cabin_letter'].map({\n",
    "    'A':0,\n",
    "    'B':1,\n",
    "    'C':2,\n",
    "    'D':3,\n",
    "    'E':4,\n",
    "    'F':5,\n",
    "    'G':6,\n",
    "    'T':7})\n",
    "train_data_drop_na_for_corr['Sex_n'] = train_data_drop_na_for_corr['Sex'].map({\n",
    "    'male'  :0,\n",
    "    'female':1,\n",
    "    })\n",
    "train_data_drop_na_for_corr['Cabin_n'] = train_data_drop_na_for_corr['Cabin_n'].astype('int')\n",
    "train_data_drop_na_for_corr['Sex_n'] = train_data_drop_na_for_corr['Sex_n'].astype('int')\n",
    "#print(train_data_drop_na_for_corr.dtypes)\n",
    "correlation_s = train_data_drop_na_for_corr.corr(method = 'spearman')\n",
    "#correlation_k = train_data_drop_na_for_corr.corr(method = 'kendall')\n",
    "correlation_p = train_data_drop_na_for_corr.corr(method = 'pearson')\n",
    "print(f\"\\n\\n'Spearman:'\\n{correlation_s.columns}\\n{correlation_s[['Cabin_letter','Cabin_n']]}\")\n",
    "#print(f\"\\n\\n'Kendall :'\\n{correlation_k.columns}\\n{correlation_k[['Cabin_letter','Cabin_n']]}\")\n",
    "print(f\"\\n\\n'Person  :'\\n{correlation_p.columns}\\n{correlation_p[['Cabin_letter','Cabin_n']]}\")"
   ]
  },
  {
   "cell_type": "code",
   "execution_count": 24,
   "metadata": {
    "execution": {
     "iopub.execute_input": "2022-04-25T15:19:33.104561Z",
     "iopub.status.busy": "2022-04-25T15:19:33.10432Z",
     "iopub.status.idle": "2022-04-25T15:19:33.113653Z",
     "shell.execute_reply": "2022-04-25T15:19:33.11293Z",
     "shell.execute_reply.started": "2022-04-25T15:19:33.104534Z"
    }
   },
   "outputs": [
    {
     "data": {
      "text/plain": [
       "Pclass\n",
       "1    2.011429\n",
       "2    4.538462\n",
       "3    5.083333\n",
       "Name: Cabin_letter, dtype: float64"
      ]
     },
     "execution_count": 24,
     "metadata": {},
     "output_type": "execute_result"
    }
   ],
   "source": [
    "train_data_drop_na_for_corr.groupby(['Pclass'])['Cabin_letter'].mean()\n",
    "# Plass correlates with Cabin_letter "
   ]
  },
  {
   "cell_type": "code",
   "execution_count": 25,
   "metadata": {
    "execution": {
     "iopub.execute_input": "2022-04-25T15:19:33.115474Z",
     "iopub.status.busy": "2022-04-25T15:19:33.115224Z",
     "iopub.status.idle": "2022-04-25T15:19:33.156415Z",
     "shell.execute_reply": "2022-04-25T15:19:33.155443Z",
     "shell.execute_reply.started": "2022-04-25T15:19:33.115447Z"
    }
   },
   "outputs": [
    {
     "data": {
      "text/plain": [
       "(Cabin_letter     0     1     2     3     4    5    6\n",
       " Pclass                                              \n",
       " 1             15.0  47.0  59.0  29.0  25.0  0.0  0.0\n",
       " 2              0.0   0.0   0.0   1.0   4.0  8.0  0.0\n",
       " 3              0.0   0.0   0.0   0.0   3.0  5.0  4.0,\n",
       " Cabin_letter\n",
       " 0    15.0\n",
       " 1    47.0\n",
       " 2    59.0\n",
       " 3    30.0\n",
       " 4    32.0\n",
       " 5    13.0\n",
       " 6     4.0\n",
       " dtype: float64,\n",
       " Pclass\n",
       " 1    175.0\n",
       " 2     13.0\n",
       " 3     12.0\n",
       " dtype: float64,\n",
       " 200.0)"
      ]
     },
     "execution_count": 25,
     "metadata": {},
     "output_type": "execute_result"
    }
   ],
   "source": [
    "# Joint distribution 'Pclass','Cabin_letter'\n",
    "Pclass_Сabin_letter = train_data_drop_na_for_corr[['Pclass','Cabin_letter']].copy()\n",
    "Pclass_Сabin_letter['Count'] = 1\n",
    "#print(Pclass_Сabin_letter)\n",
    "Class_Cabin_l_stat = pd.pivot_table(Pclass_Сabin_letter,\n",
    "              index   = 'Pclass',\n",
    "              columns = 'Cabin_letter',\n",
    "              values  = 'Count',                     \n",
    "              aggfunc = np.sum)\n",
    "Class_Cabin_l_stat.fillna(0,inplace = True)\n",
    "Class_Cabin_l_stat,Class_Cabin_l_stat.sum(),Class_Cabin_l_stat.sum(axis = 1),Class_Cabin_l_stat.sum().sum()"
   ]
  },
  {
   "cell_type": "code",
   "execution_count": 26,
   "metadata": {
    "execution": {
     "iopub.execute_input": "2022-04-25T15:19:33.158135Z",
     "iopub.status.busy": "2022-04-25T15:19:33.157815Z",
     "iopub.status.idle": "2022-04-25T15:19:33.175892Z",
     "shell.execute_reply": "2022-04-25T15:19:33.175157Z",
     "shell.execute_reply.started": "2022-04-25T15:19:33.158091Z"
    }
   },
   "outputs": [
    {
     "name": "stdout",
     "output_type": "stream",
     "text": [
      "Pclass - survived stat\n",
      "Pclass\n",
      "1    0.629630\n",
      "2    0.472826\n",
      "3    0.242363\n",
      "Name: Survived, dtype: float64\n"
     ]
    },
    {
     "data": {
      "text/html": [
       "<div>\n",
       "<style scoped>\n",
       "    .dataframe tbody tr th:only-of-type {\n",
       "        vertical-align: middle;\n",
       "    }\n",
       "\n",
       "    .dataframe tbody tr th {\n",
       "        vertical-align: top;\n",
       "    }\n",
       "\n",
       "    .dataframe thead th {\n",
       "        text-align: right;\n",
       "    }\n",
       "</style>\n",
       "<table border=\"1\" class=\"dataframe\">\n",
       "  <thead>\n",
       "    <tr style=\"text-align: right;\">\n",
       "      <th></th>\n",
       "      <th>N</th>\n",
       "      <th>SurvivedPercent</th>\n",
       "    </tr>\n",
       "  </thead>\n",
       "  <tbody>\n",
       "    <tr>\n",
       "      <th>NaN</th>\n",
       "      <td>687</td>\n",
       "      <td>0.299854</td>\n",
       "    </tr>\n",
       "    <tr>\n",
       "      <th>C</th>\n",
       "      <td>59</td>\n",
       "      <td>0.593220</td>\n",
       "    </tr>\n",
       "    <tr>\n",
       "      <th>B</th>\n",
       "      <td>47</td>\n",
       "      <td>0.744681</td>\n",
       "    </tr>\n",
       "    <tr>\n",
       "      <th>D</th>\n",
       "      <td>33</td>\n",
       "      <td>0.757576</td>\n",
       "    </tr>\n",
       "    <tr>\n",
       "      <th>E</th>\n",
       "      <td>32</td>\n",
       "      <td>0.750000</td>\n",
       "    </tr>\n",
       "    <tr>\n",
       "      <th>A</th>\n",
       "      <td>15</td>\n",
       "      <td>0.466667</td>\n",
       "    </tr>\n",
       "    <tr>\n",
       "      <th>F</th>\n",
       "      <td>13</td>\n",
       "      <td>0.615385</td>\n",
       "    </tr>\n",
       "    <tr>\n",
       "      <th>G</th>\n",
       "      <td>4</td>\n",
       "      <td>0.500000</td>\n",
       "    </tr>\n",
       "    <tr>\n",
       "      <th>T</th>\n",
       "      <td>1</td>\n",
       "      <td>0.000000</td>\n",
       "    </tr>\n",
       "    <tr>\n",
       "      <th>NaN</th>\n",
       "      <td>687</td>\n",
       "      <td>0.299854</td>\n",
       "    </tr>\n",
       "  </tbody>\n",
       "</table>\n",
       "</div>"
      ],
      "text/plain": [
       "       N  SurvivedPercent\n",
       "NaN  687         0.299854\n",
       "C     59         0.593220\n",
       "B     47         0.744681\n",
       "D     33         0.757576\n",
       "E     32         0.750000\n",
       "A     15         0.466667\n",
       "F     13         0.615385\n",
       "G      4         0.500000\n",
       "T      1         0.000000\n",
       "NaN  687         0.299854"
      ]
     },
     "execution_count": 26,
     "metadata": {},
     "output_type": "execute_result"
    }
   ],
   "source": [
    "print(f\"Pclass - survived stat\\n{train_data.groupby(['Pclass'])['Survived'].mean()}\")\n",
    "cabin_letter_stat          = train_data['Cabin_letter'].value_counts(dropna =False).sort_values(ascending = False)\n",
    "survived_cabin_letter_stat = train_data.groupby(['Cabin_letter'], dropna =False)['Survived'].mean()\n",
    "to_print = pd.DataFrame({\n",
    "    'N'              :cabin_letter_stat ,\n",
    "    'SurvivedPercent':survived_cabin_letter_stat\n",
    "    })\n",
    "to_print"
   ]
  },
  {
   "cell_type": "code",
   "execution_count": 27,
   "metadata": {
    "execution": {
     "iopub.execute_input": "2022-04-25T15:19:33.177539Z",
     "iopub.status.busy": "2022-04-25T15:19:33.176855Z",
     "iopub.status.idle": "2022-04-25T15:19:33.187865Z",
     "shell.execute_reply": "2022-04-25T15:19:33.186965Z",
     "shell.execute_reply.started": "2022-04-25T15:19:33.177501Z"
    }
   },
   "outputs": [],
   "source": [
    "# Conclusion: Potentially may be it is reasonable to fill \"Cabin_letter\" individually for classes 1-3\n",
    "# But: unknown Cabin is correlated with resulting var  - 'Survived'. \n",
    "# So being in task condition, it is better to encode Nan in Cabin as separate class 'Unknown'"
   ]
  },
  {
   "cell_type": "code",
   "execution_count": 28,
   "metadata": {
    "execution": {
     "iopub.execute_input": "2022-04-25T15:19:33.19003Z",
     "iopub.status.busy": "2022-04-25T15:19:33.189684Z",
     "iopub.status.idle": "2022-04-25T15:19:33.207106Z",
     "shell.execute_reply": "2022-04-25T15:19:33.206364Z",
     "shell.execute_reply.started": "2022-04-25T15:19:33.190002Z"
    }
   },
   "outputs": [],
   "source": [
    "# Replace Nan for 'Unknown'\n",
    "train_data.loc[:,'Cabin_letter'] = train_data.loc[:,'Cabin_letter'].fillna('Unknown')\n",
    "test_data.loc [:,'Cabin_letter'] = test_data.loc[:,'Cabin_letter'].fillna('Unknown')\n",
    "\n",
    "#train_data['Cabin_letter'] = train_data['Cabin_letter'].astype('string')\n",
    "#test_data ['Cabin_letter'] = test_data ['Cabin_letter'].astype('string')\n"
   ]
  },
  {
   "cell_type": "code",
   "execution_count": 29,
   "metadata": {
    "execution": {
     "iopub.execute_input": "2022-04-25T15:19:33.212128Z",
     "iopub.status.busy": "2022-04-25T15:19:33.211456Z",
     "iopub.status.idle": "2022-04-25T15:19:33.22161Z",
     "shell.execute_reply": "2022-04-25T15:19:33.220607Z",
     "shell.execute_reply.started": "2022-04-25T15:19:33.212079Z"
    }
   },
   "outputs": [],
   "source": [
    "# Replace Nan for '0'\n",
    "train_data['Cabin_n'] = train_data['Cabin_n'].fillna(0)\n",
    "test_data ['Cabin_n'] = test_data['Cabin_n'].fillna(0)\n",
    "train_data['Cabin_n'] = train_data['Cabin_n'].astype(np.float64).astype('int64')\n",
    "test_data ['Cabin_n'] = test_data ['Cabin_n'].astype(np.float64).astype('int64')"
   ]
  },
  {
   "cell_type": "code",
   "execution_count": 30,
   "metadata": {
    "execution": {
     "iopub.execute_input": "2022-04-25T15:19:33.223547Z",
     "iopub.status.busy": "2022-04-25T15:19:33.223209Z",
     "iopub.status.idle": "2022-04-25T15:19:33.23674Z",
     "shell.execute_reply": "2022-04-25T15:19:33.235833Z",
     "shell.execute_reply.started": "2022-04-25T15:19:33.223504Z"
    }
   },
   "outputs": [],
   "source": [
    "# Drop 'Cabin'\n",
    "train_data.drop('Cabin',axis =1,inplace= True)\n",
    "test_data. drop('Cabin',axis =1,inplace= True)"
   ]
  },
  {
   "cell_type": "code",
   "execution_count": 31,
   "metadata": {
    "execution": {
     "iopub.execute_input": "2022-04-25T15:19:33.238336Z",
     "iopub.status.busy": "2022-04-25T15:19:33.237901Z",
     "iopub.status.idle": "2022-04-25T15:19:33.254429Z",
     "shell.execute_reply": "2022-04-25T15:19:33.253285Z",
     "shell.execute_reply.started": "2022-04-25T15:19:33.238207Z"
    }
   },
   "outputs": [
    {
     "data": {
      "text/plain": [
       "PassengerId     0\n",
       "Survived        0\n",
       "Pclass          0\n",
       "Name            0\n",
       "Sex             0\n",
       "Age             0\n",
       "SibSp           0\n",
       "Parch           0\n",
       "Ticket          0\n",
       "Fare            0\n",
       "Embarked        0\n",
       "Cabin_letter    0\n",
       "Cabin_n         0\n",
       "dtype: int64"
      ]
     },
     "execution_count": 31,
     "metadata": {},
     "output_type": "execute_result"
    }
   ],
   "source": [
    "# Check for Nan affer replacement\n",
    "train_data.isnull().sum()"
   ]
  },
  {
   "cell_type": "code",
   "execution_count": 32,
   "metadata": {
    "execution": {
     "iopub.execute_input": "2022-04-25T15:19:33.256171Z",
     "iopub.status.busy": "2022-04-25T15:19:33.255825Z",
     "iopub.status.idle": "2022-04-25T15:19:33.260197Z",
     "shell.execute_reply": "2022-04-25T15:19:33.259582Z",
     "shell.execute_reply.started": "2022-04-25T15:19:33.256143Z"
    }
   },
   "outputs": [],
   "source": [
    "# NaN replacement is finished "
   ]
  },
  {
   "cell_type": "code",
   "execution_count": 33,
   "metadata": {
    "execution": {
     "iopub.execute_input": "2022-04-25T15:19:33.26155Z",
     "iopub.status.busy": "2022-04-25T15:19:33.26121Z",
     "iopub.status.idle": "2022-04-25T15:19:33.275683Z",
     "shell.execute_reply": "2022-04-25T15:19:33.274836Z",
     "shell.execute_reply.started": "2022-04-25T15:19:33.261523Z"
    }
   },
   "outputs": [
    {
     "name": "stdout",
     "output_type": "stream",
     "text": [
      "929\n",
      "CA. 2343              11\n",
      "CA 2144                8\n",
      "1601                   8\n",
      "PC 17608               7\n",
      "347082                 7\n",
      "                      ..\n",
      "C.A. 15185             1\n",
      "SOTON/O.Q. 3101314     1\n",
      "AQ/3. 30631            1\n",
      "350408                 1\n",
      "3101297                1\n",
      "Name: Ticket, Length: 929, dtype: int64\n"
     ]
    }
   ],
   "source": [
    "# Ticket is mixed variable - need to be worked out\n",
    "\n",
    "value_count = dataset_X['Ticket'].value_counts()\n",
    "print(len(value_count))\n",
    "print(value_count)"
   ]
  },
  {
   "cell_type": "code",
   "execution_count": 34,
   "metadata": {
    "execution": {
     "iopub.execute_input": "2022-04-25T15:19:33.277566Z",
     "iopub.status.busy": "2022-04-25T15:19:33.277233Z",
     "iopub.status.idle": "2022-04-25T15:19:33.29814Z",
     "shell.execute_reply": "2022-04-25T15:19:33.297434Z",
     "shell.execute_reply.started": "2022-04-25T15:19:33.277524Z"
    }
   },
   "outputs": [
    {
     "name": "stdout",
     "output_type": "stream",
     "text": [
      "train isnull before: 4\n",
      "test  isnull before: 0\n",
      "227846 <class 'int'>\n",
      "isnull check: 0\n",
      "isnull check: 0\n"
     ]
    }
   ],
   "source": [
    "# Extract numarical part and fill Nan for mean\n",
    "train_data['Ticket_n'] = train_data['Ticket'].str.extract('(\\d+)')\n",
    "test_data ['Ticket_n'] = test_data ['Ticket'].str.extract('(\\d+)')\n",
    "#print(train_data['Ticket_n'].dtypes)\n",
    "#for el in train_data['Ticket_n']: print(el)\n",
    "train_data['Ticket_n'] = train_data['Ticket_n'].astype(np.float64)\n",
    "#train_data['Ticket_n'] = train_data['Ticket_n'].astype('int32')\n",
    "test_data ['Ticket_n'] = test_data ['Ticket_n'].astype(np.float64)\n",
    "#.astype('int32')\n",
    "mean_ticker_n =train_data.Ticket_n.mean()\n",
    "mean_ticker_n = int(mean_ticker_n)\n",
    "print('train isnull before:',train_data['Ticket_n'].isnull().sum())\n",
    "print('test  isnull before:',test_data ['Ticket_n'].isnull().sum())\n",
    "print(mean_ticker_n, type(mean_ticker_n))\n",
    "train_data['Ticket_n'].fillna(mean_ticker_n,inplace = True)\n",
    "test_data ['Ticket_n'].fillna(mean_ticker_n,inplace = True)\n",
    "train_data['Ticket_n'] = train_data['Ticket_n'].astype('int64')\n",
    "test_data ['Ticket_n'] = test_data ['Ticket_n'].astype('int64')\n",
    "print('isnull check:',train_data['Ticket_n'].isnull().sum())\n",
    "print('isnull check:',train_data['Ticket_n'].isnull().sum())"
   ]
  },
  {
   "cell_type": "code",
   "execution_count": 35,
   "metadata": {
    "execution": {
     "iopub.execute_input": "2022-04-25T15:19:33.300333Z",
     "iopub.status.busy": "2022-04-25T15:19:33.299541Z",
     "iopub.status.idle": "2022-04-25T15:19:33.305136Z",
     "shell.execute_reply": "2022-04-25T15:19:33.304199Z",
     "shell.execute_reply.started": "2022-04-25T15:19:33.300286Z"
    }
   },
   "outputs": [],
   "source": [
    "#Check Letters in Ticket \n",
    "#train_data['Ticket_str'] = train_data['Ticket'].str.extract('([a-z+,A-z+])')\n",
    "#test_data ['Ticket_str'] = test_data ['Ticket'].str.extract('([a-z+,A-z+])')\n",
    "#print(train_data['Ticket_str'].value_counts(dropna = False))\n",
    "#train_data['Ticket_str'].nunique(),test_data['Ticket_str'].nunique()\n",
    "#temp_df = train_data['Ticket'].str.extract('([a-z+,A-z+])')"
   ]
  },
  {
   "cell_type": "code",
   "execution_count": 36,
   "metadata": {
    "execution": {
     "iopub.execute_input": "2022-04-25T15:19:33.307284Z",
     "iopub.status.busy": "2022-04-25T15:19:33.306592Z",
     "iopub.status.idle": "2022-04-25T15:19:33.314367Z",
     "shell.execute_reply": "2022-04-25T15:19:33.31365Z",
     "shell.execute_reply.started": "2022-04-25T15:19:33.307245Z"
    }
   },
   "outputs": [],
   "source": [
    "# Decision: don't use letters from Tickets"
   ]
  },
  {
   "cell_type": "code",
   "execution_count": 37,
   "metadata": {
    "execution": {
     "iopub.execute_input": "2022-04-25T15:19:33.315786Z",
     "iopub.status.busy": "2022-04-25T15:19:33.315557Z",
     "iopub.status.idle": "2022-04-25T15:19:33.332481Z",
     "shell.execute_reply": "2022-04-25T15:19:33.331602Z",
     "shell.execute_reply.started": "2022-04-25T15:19:33.315759Z"
    }
   },
   "outputs": [
    {
     "name": "stdout",
     "output_type": "stream",
     "text": [
      "Index(['PassengerId', 'Survived', 'Pclass', 'Name', 'Sex', 'Age', 'SibSp',\n",
      "       'Parch', 'Ticket', 'Fare', 'Embarked', 'Cabin_letter', 'Cabin_n',\n",
      "       'Ticket_n'],\n",
      "      dtype='object')\n",
      "Index(['PassengerId', 'Survived', 'Pclass', 'Sex', 'Age', 'SibSp', 'Parch',\n",
      "       'Fare', 'Embarked', 'Cabin_letter', 'Cabin_n', 'Ticket_n'],\n",
      "      dtype='object')\n"
     ]
    }
   ],
   "source": [
    "# Drop 'Name','Ticket' from data\n",
    "print(train_data.columns)\n",
    "train_data.drop(['Name','Ticket'], axis=1, inplace = True)\n",
    "test_data .drop(['Name','Ticket'], axis=1, inplace = True)\n",
    "print(train_data.columns)"
   ]
  },
  {
   "cell_type": "code",
   "execution_count": 38,
   "metadata": {
    "execution": {
     "iopub.execute_input": "2022-04-25T15:19:33.333997Z",
     "iopub.status.busy": "2022-04-25T15:19:33.33349Z",
     "iopub.status.idle": "2022-04-25T15:19:33.355676Z",
     "shell.execute_reply": "2022-04-25T15:19:33.354739Z",
     "shell.execute_reply.started": "2022-04-25T15:19:33.333962Z"
    }
   },
   "outputs": [
    {
     "data": {
      "text/plain": [
       "(Index(['PassengerId', 'Survived', 'Pclass', 'Sex', 'Age', 'SibSp', 'Parch',\n",
       "        'Fare', 'Embarked', 'Cabin_letter', 'Cabin_n', 'Ticket_n'],\n",
       "       dtype='object'),\n",
       " PassengerId     0\n",
       " Survived        0\n",
       " Pclass          0\n",
       " Sex             0\n",
       " Age             0\n",
       " SibSp           0\n",
       " Parch           0\n",
       " Fare            0\n",
       " Embarked        0\n",
       " Cabin_letter    0\n",
       " Cabin_n         0\n",
       " Ticket_n        0\n",
       " dtype: int64,\n",
       "    PassengerId  Survived  Pclass     Sex   Age  SibSp  Parch     Fare  \\\n",
       " 0            1         0       3    male  22.0      1      0   7.2500   \n",
       " 1            2         1       1  female  38.0      1      0  71.2833   \n",
       " 2            3         1       3  female  26.0      0      0   7.9250   \n",
       " 3            4         1       1  female  35.0      1      0  53.1000   \n",
       " 4            5         0       3    male  35.0      0      0   8.0500   \n",
       " 5            6         0       3    male  28.0      0      0   8.4583   \n",
       " 6            7         0       1    male  54.0      0      0  51.8625   \n",
       " 7            8         0       3    male   2.0      3      1  21.0750   \n",
       " 8            9         1       3  female  27.0      0      2  11.1333   \n",
       " 9           10         1       2  female  14.0      1      0  30.0708   \n",
       " \n",
       "   Embarked Cabin_letter  Cabin_n  Ticket_n  \n",
       " 0        S      Unknown        0         5  \n",
       " 1        C            C       85     17599  \n",
       " 2        S      Unknown        0         2  \n",
       " 3        S            C      123    113803  \n",
       " 4        S      Unknown        0    373450  \n",
       " 5        Q      Unknown        0    330877  \n",
       " 6        S            E       46     17463  \n",
       " 7        S      Unknown        0    349909  \n",
       " 8        S      Unknown        0    347742  \n",
       " 9        C      Unknown        0    237736  )"
      ]
     },
     "execution_count": 38,
     "metadata": {},
     "output_type": "execute_result"
    }
   ],
   "source": [
    "# Check for Nan, look data after steps above \n",
    "train_data.columns, train_data.isnull().sum(), train_data.head(10)"
   ]
  },
  {
   "cell_type": "markdown",
   "metadata": {},
   "source": [
    "Check for duplicates"
   ]
  },
  {
   "cell_type": "code",
   "execution_count": 39,
   "metadata": {
    "execution": {
     "iopub.execute_input": "2022-04-25T15:19:33.357343Z",
     "iopub.status.busy": "2022-04-25T15:19:33.357099Z",
     "iopub.status.idle": "2022-04-25T15:19:33.373251Z",
     "shell.execute_reply": "2022-04-25T15:19:33.372197Z",
     "shell.execute_reply.started": "2022-04-25T15:19:33.357307Z"
    }
   },
   "outputs": [
    {
     "data": {
      "text/plain": [
       "(0, 11)"
      ]
     },
     "execution_count": 39,
     "metadata": {},
     "output_type": "execute_result"
    }
   ],
   "source": [
    "# Check duplicated lines\n",
    "data_temp = pd.concat([train_data.drop('Survived',axis = 1),test_data])\n",
    "data_temp[data_temp.duplicated(keep = False) == True].shape\n",
    "# no duplicated lines"
   ]
  },
  {
   "cell_type": "code",
   "execution_count": 40,
   "metadata": {
    "execution": {
     "iopub.execute_input": "2022-04-25T15:19:33.374907Z",
     "iopub.status.busy": "2022-04-25T15:19:33.374675Z",
     "iopub.status.idle": "2022-04-25T15:19:33.525136Z",
     "shell.execute_reply": "2022-04-25T15:19:33.524463Z",
     "shell.execute_reply.started": "2022-04-25T15:19:33.374877Z"
    }
   },
   "outputs": [
    {
     "data": {
      "text/plain": [
       "((0, 1309),\n",
       " Index(['PassengerId', 'Pclass', 'Sex', 'Age', 'SibSp', 'Parch', 'Fare',\n",
       "        'Embarked', 'Cabin_letter', 'Cabin_n', 'Ticket_n'],\n",
       "       dtype='object'))"
      ]
     },
     "execution_count": 40,
     "metadata": {},
     "output_type": "execute_result"
    }
   ],
   "source": [
    "#Check duplicated columns\n",
    "data_temp_trans = data_temp.transpose()\n",
    "data_temp_trans[data_temp_trans.duplicated(keep = False) == True].shape, data_temp_trans.index \n",
    "# no duplicated columns"
   ]
  },
  {
   "cell_type": "markdown",
   "metadata": {},
   "source": [
    "Correlation between features"
   ]
  },
  {
   "cell_type": "code",
   "execution_count": 41,
   "metadata": {
    "execution": {
     "iopub.execute_input": "2022-04-25T15:19:33.527049Z",
     "iopub.status.busy": "2022-04-25T15:19:33.526515Z",
     "iopub.status.idle": "2022-04-25T15:19:33.544862Z",
     "shell.execute_reply": "2022-04-25T15:19:33.544183Z",
     "shell.execute_reply.started": "2022-04-25T15:19:33.527007Z"
    }
   },
   "outputs": [
    {
     "name": "stdout",
     "output_type": "stream",
     "text": [
      "\n",
      "\n",
      "'Spearman:'\n",
      "Index(['PassengerId', 'Pclass', 'Age', 'SibSp', 'Parch', 'Fare', 'Cabin_n',\n",
      "       'Ticket_n'],\n",
      "      dtype='object')\n",
      "             PassengerId    Pclass       Age     SibSp     Parch      Fare  \\\n",
      "PassengerId     1.000000 -0.039921  0.016007 -0.032295 -0.006191 -0.002831   \n",
      "Pclass         -0.039921  1.000000 -0.345030 -0.066679 -0.028752 -0.708022   \n",
      "Age             0.016007 -0.345030  1.000000 -0.102364 -0.182357  0.174245   \n",
      "SibSp          -0.032295 -0.066679 -0.102364  1.000000  0.438373  0.444830   \n",
      "Parch          -0.006191 -0.028752 -0.182357  0.438373  1.000000  0.399712   \n",
      "Fare           -0.002831 -0.708022  0.174245  0.444830  0.399712  1.000000   \n",
      "Cabin_n         0.001892 -0.666682  0.261585  0.104277  0.079090  0.542392   \n",
      "Ticket_n       -0.028697  0.237422 -0.067573 -0.097199 -0.055146 -0.246642   \n",
      "\n",
      "              Cabin_n  Ticket_n  \n",
      "PassengerId  0.001892 -0.028697  \n",
      "Pclass      -0.666682  0.237422  \n",
      "Age          0.261585 -0.067573  \n",
      "SibSp        0.104277 -0.097199  \n",
      "Parch        0.079090 -0.055146  \n",
      "Fare         0.542392 -0.246642  \n",
      "Cabin_n      1.000000 -0.166192  \n",
      "Ticket_n    -0.166192  1.000000  \n",
      "\n",
      "\n",
      "'Pearson  :'\n",
      "Index(['PassengerId', 'Pclass', 'Age', 'SibSp', 'Parch', 'Fare', 'Cabin_n',\n",
      "       'Ticket_n'],\n",
      "      dtype='object')\n",
      "             PassengerId    Pclass       Age     SibSp     Parch      Fare  \\\n",
      "PassengerId     1.000000 -0.038354  0.025799 -0.055224  0.008942  0.031399   \n",
      "Pclass         -0.038354  1.000000 -0.377908  0.060832  0.018322 -0.558491   \n",
      "Age             0.025799 -0.377908  1.000000 -0.189972 -0.125851  0.178821   \n",
      "SibSp          -0.055224  0.060832 -0.189972  1.000000  0.373587  0.160232   \n",
      "Parch           0.008942  0.018322 -0.125851  0.373587  1.000000  0.221529   \n",
      "Fare            0.031399 -0.558491  0.178821  0.160232  0.221529  1.000000   \n",
      "Cabin_n        -0.003475 -0.574782  0.239443 -0.003242  0.000376  0.454182   \n",
      "Ticket_n       -0.018818  0.262491 -0.121043  0.058364  0.001315 -0.144167   \n",
      "\n",
      "              Cabin_n  Ticket_n  \n",
      "PassengerId -0.003475 -0.018818  \n",
      "Pclass      -0.574782  0.262491  \n",
      "Age          0.239443 -0.121043  \n",
      "SibSp       -0.003242  0.058364  \n",
      "Parch        0.000376  0.001315  \n",
      "Fare         0.454182 -0.144167  \n",
      "Cabin_n      1.000000 -0.136903  \n",
      "Ticket_n    -0.136903  1.000000  \n"
     ]
    }
   ],
   "source": [
    "# Correlation between features after first steps\n",
    "correlation_p = data_temp.corr( method = 'pearson')\n",
    "correlation_s = data_temp.corr( method = 'spearman')\n",
    "print(f\"\\n\\n'Spearman:'\\n{correlation_s.columns}\\n{correlation_s}\")\n",
    "print(f\"\\n\\n'Pearson  :'\\n{correlation_p.columns}\\n{correlation_p}\")\n",
    "#abs(Correlation) between features are less them 0,7 (for  Spearman)\n",
    "# Correlation between Pclass and Cabin_n, Fear and Plcass."
   ]
  },
  {
   "cell_type": "code",
   "execution_count": 42,
   "metadata": {
    "execution": {
     "iopub.execute_input": "2022-04-25T15:19:33.54783Z",
     "iopub.status.busy": "2022-04-25T15:19:33.547293Z",
     "iopub.status.idle": "2022-04-25T15:19:33.564952Z",
     "shell.execute_reply": "2022-04-25T15:19:33.563851Z",
     "shell.execute_reply.started": "2022-04-25T15:19:33.547794Z"
    }
   },
   "outputs": [
    {
     "name": "stdout",
     "output_type": "stream",
     "text": [
      "Cabin_letter:\n",
      "            N   Percent\n",
      "Unknown  1014  0.774637\n",
      "C          94  0.071811\n",
      "B          65  0.049656\n",
      "D          46  0.035141\n",
      "E          41  0.031322\n",
      "A          22  0.016807\n",
      "F          21  0.016043\n",
      "G           5  0.003820\n",
      "T           1  0.000764\n"
     ]
    }
   ],
   "source": [
    "# Rare elements in 'Cabin_letter': stat\n",
    "data_temp = pd.concat([train_data.drop(['Survived'], axis=1),test_data])\n",
    "# list of feature to check rare values\n",
    "n_rows = data_temp.shape[0]\n",
    "list_to_check_rare = ['Cabin_letter']\n",
    "for item in list_to_check_rare:\n",
    "    serial_temp = data_temp[item].value_counts().sort_values(ascending = False)\n",
    "    percent     = pd.Series(serial_temp/n_rows)\n",
    "    data_frame_temp = pd.DataFrame({'N':serial_temp,'Percent':percent})\n",
    "    print(\"{}:\\n{}\".format(item,data_frame_temp))    "
   ]
  },
  {
   "cell_type": "code",
   "execution_count": 43,
   "metadata": {
    "execution": {
     "iopub.execute_input": "2022-04-25T15:19:33.566857Z",
     "iopub.status.busy": "2022-04-25T15:19:33.566456Z",
     "iopub.status.idle": "2022-04-25T15:19:33.597334Z",
     "shell.execute_reply": "2022-04-25T15:19:33.596684Z",
     "shell.execute_reply.started": "2022-04-25T15:19:33.56681Z"
    }
   },
   "outputs": [
    {
     "name": "stdout",
     "output_type": "stream",
     "text": [
      "label to encode: ['A', 'F', 'G', 'T']\n",
      "Unknown    687\n",
      "C           59\n",
      "B           47\n",
      "D           33\n",
      "rare        33\n",
      "E           32\n",
      "Name: Cabin_letter, dtype: int64\n",
      "\n",
      "Unknown    327\n",
      "C           35\n",
      "B           18\n",
      "rare        16\n",
      "D           13\n",
      "E            9\n",
      "Name: Cabin_letter, dtype: int64\n"
     ]
    }
   ],
   "source": [
    "# Rare elements in 'Cabin_letter': replace\n",
    "column = 'Cabin_letter'\n",
    "treshold_rare_rate = 0.02\n",
    "data_total = pd.concat([train_data.drop(['Survived'], axis=1),test_data])\n",
    "len_total = data_temp.shape[0]\n",
    "treshold_rare_rate_N = treshold_rare_rate*len_total\n",
    "ind_list = list()\n",
    "count = data_total[column].value_counts()\n",
    "#print(count.index)\n",
    "ind = count[count<treshold_rare_rate_N].index\n",
    "ind_list=ind.to_list()\n",
    "print('label to encode:',ind_list)\n",
    "\n",
    "for item in ind_list:\n",
    "    train_data.loc[train_data[column] == item,column] = 'rare'\n",
    "    test_data. loc[test_data[column]  == item,column] = 'rare'\n",
    "\n",
    "print(f'{train_data[column].value_counts()}\\n\\n{test_data[column].value_counts()}')\n"
   ]
  },
  {
   "cell_type": "code",
   "execution_count": 44,
   "metadata": {
    "execution": {
     "iopub.execute_input": "2022-04-25T15:19:33.601675Z",
     "iopub.status.busy": "2022-04-25T15:19:33.60088Z",
     "iopub.status.idle": "2022-04-25T15:19:33.609547Z",
     "shell.execute_reply": "2022-04-25T15:19:33.608611Z",
     "shell.execute_reply.started": "2022-04-25T15:19:33.60162Z"
    }
   },
   "outputs": [
    {
     "data": {
      "text/plain": [
       "(Index(['PassengerId', 'Survived', 'Pclass', 'Sex', 'Age', 'SibSp', 'Parch',\n",
       "        'Fare', 'Embarked', 'Cabin_letter', 'Cabin_n', 'Ticket_n'],\n",
       "       dtype='object'),\n",
       " PassengerId       int64\n",
       " Survived          int64\n",
       " Pclass            int64\n",
       " Sex              object\n",
       " Age             float64\n",
       " SibSp             int64\n",
       " Parch             int64\n",
       " Fare            float64\n",
       " Embarked         object\n",
       " Cabin_letter     object\n",
       " Cabin_n           int64\n",
       " Ticket_n          int64\n",
       " dtype: object)"
      ]
     },
     "execution_count": 44,
     "metadata": {},
     "output_type": "execute_result"
    }
   ],
   "source": [
    "train_data.columns,train_data.dtypes"
   ]
  },
  {
   "cell_type": "code",
   "execution_count": 45,
   "metadata": {
    "execution": {
     "iopub.execute_input": "2022-04-25T15:19:33.611726Z",
     "iopub.status.busy": "2022-04-25T15:19:33.611162Z",
     "iopub.status.idle": "2022-04-25T15:19:33.630069Z",
     "shell.execute_reply": "2022-04-25T15:19:33.628947Z",
     "shell.execute_reply.started": "2022-04-25T15:19:33.61168Z"
    }
   },
   "outputs": [
    {
     "name": "stdout",
     "output_type": "stream",
     "text": [
      "Spearman corr\n",
      "             PassengerId  Survived    Pclass       Age     SibSp     Parch  \\\n",
      "PassengerId     1.000000 -0.005007 -0.034091  0.034584 -0.061161  0.001235   \n",
      "Survived       -0.005007  1.000000 -0.339668 -0.037004  0.088879  0.138266   \n",
      "Pclass         -0.034091 -0.339668  1.000000 -0.317406 -0.043019 -0.022801   \n",
      "Age             0.034584 -0.037004 -0.317406  1.000000 -0.145316 -0.217488   \n",
      "SibSp          -0.061161  0.088879 -0.043019 -0.145316  1.000000  0.450014   \n",
      "Parch           0.001235  0.138266 -0.022801 -0.217488  0.450014  1.000000   \n",
      "Fare           -0.013975  0.323736 -0.688032  0.126006  0.447113  0.410074   \n",
      "Cabin_n         0.026237  0.308564 -0.674438  0.225499  0.056378  0.076375   \n",
      "Ticket_n       -0.020400 -0.139273  0.233018 -0.063132 -0.065214 -0.032394   \n",
      "\n",
      "                 Fare   Cabin_n  Ticket_n  \n",
      "PassengerId -0.013975  0.026237 -0.020400  \n",
      "Survived     0.323736  0.308564 -0.139273  \n",
      "Pclass      -0.688032 -0.674438  0.233018  \n",
      "Age          0.126006  0.225499 -0.063132  \n",
      "SibSp        0.447113  0.056378 -0.065214  \n",
      "Parch        0.410074  0.076375 -0.032394  \n",
      "Fare         1.000000  0.534994 -0.229672  \n",
      "Cabin_n      0.534994  1.000000 -0.148682  \n",
      "Ticket_n    -0.229672 -0.148682  1.000000  \n"
     ]
    }
   ],
   "source": [
    "# Look at correlation X with y\n",
    "\n",
    "corr_X_y = train_data.corr(method = 'spearman')\n",
    "print('Spearman corr\\n{}'.format(corr_X_y))\n",
    "# no strong correlations (except Pclass and Fare)"
   ]
  },
  {
   "cell_type": "markdown",
   "metadata": {},
   "source": [
    "Encoding"
   ]
  },
  {
   "cell_type": "code",
   "execution_count": 46,
   "metadata": {
    "execution": {
     "iopub.execute_input": "2022-04-25T15:19:33.631873Z",
     "iopub.status.busy": "2022-04-25T15:19:33.631535Z",
     "iopub.status.idle": "2022-04-25T15:19:33.642015Z",
     "shell.execute_reply": "2022-04-25T15:19:33.640871Z",
     "shell.execute_reply.started": "2022-04-25T15:19:33.631828Z"
    }
   },
   "outputs": [
    {
     "data": {
      "text/plain": [
       "['PassengerId', 'Survived', 'Pclass']"
      ]
     },
     "execution_count": 46,
     "metadata": {},
     "output_type": "execute_result"
    }
   ],
   "source": [
    "# form lists for different encodeing\n",
    "cat_text_to_encode_list      = [column for column in train_data.columns if train_data[column].dtypes == 'object']\n",
    "num_to_standard_list         = ['Age','SibSp','Parch','Fare','Cabin_n','Ticket_n']\n",
    "\n",
    "#check\n",
    "list_left = [column for column in train_data.columns if (column not in cat_text_to_encode_list)&(column not in num_to_standard_list)]\n",
    "list_left"
   ]
  },
  {
   "cell_type": "code",
   "execution_count": 47,
   "metadata": {
    "execution": {
     "iopub.execute_input": "2022-04-25T15:19:33.643643Z",
     "iopub.status.busy": "2022-04-25T15:19:33.64337Z",
     "iopub.status.idle": "2022-04-25T15:19:33.654234Z",
     "shell.execute_reply": "2022-04-25T15:19:33.653268Z",
     "shell.execute_reply.started": "2022-04-25T15:19:33.643612Z"
    }
   },
   "outputs": [],
   "source": [
    "train_data_cat = train_data[cat_text_to_encode_list]\n",
    "ohe = OneHotEncoder(drop = 'if_binary')\n",
    "sc  = StandardScaler()\n",
    "transformers = ColumnTransformer([\n",
    "    ('OneHotEncoder' ,ohe,cat_text_to_encode_list),\n",
    "    ('StandardScaler',sc, num_to_standard_list)], remainder = 'passthrough')\n"
   ]
  },
  {
   "cell_type": "code",
   "execution_count": 48,
   "metadata": {
    "execution": {
     "iopub.execute_input": "2022-04-25T15:19:33.65597Z",
     "iopub.status.busy": "2022-04-25T15:19:33.655723Z",
     "iopub.status.idle": "2022-04-25T15:19:33.668314Z",
     "shell.execute_reply": "2022-04-25T15:19:33.667603Z",
     "shell.execute_reply.started": "2022-04-25T15:19:33.655942Z"
    }
   },
   "outputs": [],
   "source": [
    "# Prepare X_train, etc.\n",
    "PassengerIdTrain = train_data['PassengerId']\n",
    "PassengerIdTest  = test_data ['PassengerId']\n",
    "test_data_copy = test_data.copy()\n",
    "y_train = train_data['Survived']\n",
    "X_train = train_data.drop(['PassengerId','Survived'], axis = 1)\n",
    "X_test  = test_data.drop('PassengerId',axis = 1)"
   ]
  },
  {
   "cell_type": "code",
   "execution_count": 49,
   "metadata": {
    "execution": {
     "iopub.execute_input": "2022-04-25T15:19:33.671472Z",
     "iopub.status.busy": "2022-04-25T15:19:33.67082Z",
     "iopub.status.idle": "2022-04-25T15:19:33.680792Z",
     "shell.execute_reply": "2022-04-25T15:19:33.679498Z",
     "shell.execute_reply.started": "2022-04-25T15:19:33.671423Z"
    }
   },
   "outputs": [],
   "source": [
    "gbm     = GradientBoostingClassifier(max_depth = 5, n_estimators = 30, random_state = 0)\n",
    "log_reg = LogisticRegression()\n",
    "knn     = KNeighborsClassifier()\n",
    "forest  = RandomForestClassifier()\n",
    "n_net   = MLPClassifier()"
   ]
  },
  {
   "cell_type": "code",
   "execution_count": 50,
   "metadata": {
    "execution": {
     "iopub.execute_input": "2022-04-25T15:19:33.682559Z",
     "iopub.status.busy": "2022-04-25T15:19:33.681935Z",
     "iopub.status.idle": "2022-04-25T15:19:33.706475Z",
     "shell.execute_reply": "2022-04-25T15:19:33.705437Z",
     "shell.execute_reply.started": "2022-04-25T15:19:33.682524Z"
    }
   },
   "outputs": [],
   "source": [
    "params = [{'clf':[gbm],    'clf__max_depth':[1,2,3,5,7],'clf__n_estimators':[10,30,50,100]}, \n",
    "          {'clf':[log_reg],'clf__C': [0.1,1,10]},\n",
    "          {'clf':[knn],    'clf__n_neighbors':[3,4,5], 'clf__p':[1,2]},\n",
    "          {'clf':[forest], 'clf__max_depth':[3,5,7]}\n",
    "         ]\n"
   ]
  },
  {
   "cell_type": "code",
   "execution_count": 51,
   "metadata": {
    "execution": {
     "iopub.execute_input": "2022-04-25T15:19:33.708349Z",
     "iopub.status.busy": "2022-04-25T15:19:33.707839Z",
     "iopub.status.idle": "2022-04-25T15:19:33.718588Z",
     "shell.execute_reply": "2022-04-25T15:19:33.717741Z",
     "shell.execute_reply.started": "2022-04-25T15:19:33.7083Z"
    }
   },
   "outputs": [],
   "source": [
    "pipe = Pipeline(steps = [('transformers',transformers),('clf',gbm)])"
   ]
  },
  {
   "cell_type": "code",
   "execution_count": 52,
   "metadata": {
    "execution": {
     "iopub.execute_input": "2022-04-25T15:19:33.720081Z",
     "iopub.status.busy": "2022-04-25T15:19:33.719706Z",
     "iopub.status.idle": "2022-04-25T15:19:48.240574Z",
     "shell.execute_reply": "2022-04-25T15:19:48.239621Z",
     "shell.execute_reply.started": "2022-04-25T15:19:33.720041Z"
    }
   },
   "outputs": [
    {
     "data": {
      "text/plain": [
       "Pipeline(steps=[('transformers',\n",
       "                 ColumnTransformer(remainder='passthrough',\n",
       "                                   transformers=[('OneHotEncoder',\n",
       "                                                  OneHotEncoder(drop='if_binary'),\n",
       "                                                  ['Sex', 'Embarked',\n",
       "                                                   'Cabin_letter']),\n",
       "                                                 ('StandardScaler',\n",
       "                                                  StandardScaler(),\n",
       "                                                  ['Age', 'SibSp', 'Parch',\n",
       "                                                   'Fare', 'Cabin_n',\n",
       "                                                   'Ticket_n'])])),\n",
       "                ('clf', GradientBoostingClassifier(random_state=0))])"
      ]
     },
     "execution_count": 52,
     "metadata": {},
     "output_type": "execute_result"
    }
   ],
   "source": [
    "search = GridSearchCV(pipe,params,\n",
    "                      #scoring = accuracy_score,\n",
    "                      #cv = 4\n",
    "                     )\n",
    "search.fit(X_train,y_train)\n",
    "best   = search.best_estimator_\n",
    "best"
   ]
  },
  {
   "cell_type": "code",
   "execution_count": 53,
   "metadata": {
    "execution": {
     "iopub.execute_input": "2022-04-25T15:19:48.243801Z",
     "iopub.status.busy": "2022-04-25T15:19:48.243469Z",
     "iopub.status.idle": "2022-04-25T15:19:48.2504Z",
     "shell.execute_reply": "2022-04-25T15:19:48.24957Z",
     "shell.execute_reply.started": "2022-04-25T15:19:48.243759Z"
    }
   },
   "outputs": [
    {
     "data": {
      "text/plain": [
       "{'clf': GradientBoostingClassifier(random_state=0),\n",
       " 'clf__max_depth': 3,\n",
       " 'clf__n_estimators': 100}"
      ]
     },
     "execution_count": 53,
     "metadata": {},
     "output_type": "execute_result"
    }
   ],
   "source": [
    "search.best_params_"
   ]
  },
  {
   "cell_type": "code",
   "execution_count": 54,
   "metadata": {
    "execution": {
     "iopub.execute_input": "2022-04-25T15:19:48.252269Z",
     "iopub.status.busy": "2022-04-25T15:19:48.252002Z",
     "iopub.status.idle": "2022-04-25T15:19:48.271333Z",
     "shell.execute_reply": "2022-04-25T15:19:48.270153Z",
     "shell.execute_reply.started": "2022-04-25T15:19:48.252238Z"
    }
   },
   "outputs": [],
   "source": [
    "y_pred = best.predict(X_test)"
   ]
  },
  {
   "cell_type": "code",
   "execution_count": 55,
   "metadata": {
    "execution": {
     "iopub.execute_input": "2022-04-25T15:19:48.279167Z",
     "iopub.status.busy": "2022-04-25T15:19:48.278945Z",
     "iopub.status.idle": "2022-04-25T15:19:48.291857Z",
     "shell.execute_reply": "2022-04-25T15:19:48.291166Z",
     "shell.execute_reply.started": "2022-04-25T15:19:48.27914Z"
    }
   },
   "outputs": [
    {
     "data": {
      "text/plain": [
       "(0.3838383838383838, 0.361244019138756)"
      ]
     },
     "execution_count": 55,
     "metadata": {},
     "output_type": "execute_result"
    }
   ],
   "source": [
    "y_train.mean(),y_pred.mean()"
   ]
  },
  {
   "cell_type": "code",
   "execution_count": 56,
   "metadata": {
    "execution": {
     "iopub.execute_input": "2022-04-25T15:19:48.307853Z",
     "iopub.status.busy": "2022-04-25T15:19:48.307568Z",
     "iopub.status.idle": "2022-04-25T15:19:48.32057Z",
     "shell.execute_reply": "2022-04-25T15:19:48.319742Z",
     "shell.execute_reply.started": "2022-04-25T15:19:48.307826Z"
    }
   },
   "outputs": [
    {
     "name": "stdout",
     "output_type": "stream",
     "text": [
      "             PassengerId  Survived\n",
      "PassengerId                       \n",
      "892                  892         0\n",
      "893                  893         0\n",
      "894                  894         0\n",
      "895                  895         0\n",
      "896                  896         1\n",
      "...                  ...       ...\n",
      "1305                1305         0\n",
      "1306                1306         1\n",
      "1307                1307         0\n",
      "1308                1308         0\n",
      "1309                1309         0\n",
      "\n",
      "[418 rows x 2 columns]\n"
     ]
    }
   ],
   "source": [
    "PassegerId_y_pred = pd.DataFrame({'PassengerId':PassengerIdTest,'Survived':y_pred})\n",
    "PassegerId_y_pred.index = PassegerId_y_pred['PassengerId']\n",
    "print(PassegerId_y_pred)\n"
   ]
  },
  {
   "cell_type": "code",
   "execution_count": 57,
   "metadata": {
    "execution": {
     "iopub.execute_input": "2022-04-25T15:19:48.322214Z",
     "iopub.status.busy": "2022-04-25T15:19:48.322015Z",
     "iopub.status.idle": "2022-04-25T15:19:48.331145Z",
     "shell.execute_reply": "2022-04-25T15:19:48.330478Z",
     "shell.execute_reply.started": "2022-04-25T15:19:48.32219Z"
    }
   },
   "outputs": [],
   "source": [
    "PassegerId_y_pred.to_csv(\"submission_grid_search.csv\", index = False)"
   ]
  },
  {
   "cell_type": "code",
   "execution_count": 59,
   "metadata": {
    "execution": {
     "iopub.execute_input": "2022-04-25T15:19:48.33282Z",
     "iopub.status.busy": "2022-04-25T15:19:48.332166Z",
     "iopub.status.idle": "2022-04-25T15:19:48.339952Z",
     "shell.execute_reply": "2022-04-25T15:19:48.339342Z",
     "shell.execute_reply.started": "2022-04-25T15:19:48.332784Z"
    }
   },
   "outputs": [
    {
     "data": {
      "text/plain": [
       "0.8361684765551441"
      ]
     },
     "execution_count": 59,
     "metadata": {},
     "output_type": "execute_result"
    }
   ],
   "source": [
    "search.best_score_"
   ]
  }
 ],
 "metadata": {
  "kernelspec": {
   "display_name": "Python 3",
   "language": "python",
   "name": "python3"
  },
  "language_info": {
   "codemirror_mode": {
    "name": "ipython",
    "version": 3
   },
   "file_extension": ".py",
   "mimetype": "text/x-python",
   "name": "python",
   "nbconvert_exporter": "python",
   "pygments_lexer": "ipython3",
   "version": "3.8.5"
  }
 },
 "nbformat": 4,
 "nbformat_minor": 4
}
